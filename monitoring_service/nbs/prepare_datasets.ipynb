{
 "cells": [
  {
   "cell_type": "code",
   "execution_count": 1,
   "metadata": {},
   "outputs": [
    {
     "name": "stdout",
     "output_type": "stream",
     "text": [
      "/Users/tung.dao/tung/mlopsvn/code/mlops-crash-course-code/monitoring_service/nbs\n"
     ]
    }
   ],
   "source": [
    "!pwd"
   ]
  },
  {
   "cell_type": "code",
   "execution_count": 2,
   "metadata": {},
   "outputs": [],
   "source": [
    "import pandas as pd\n",
    "import fastparquet\n",
    "from pathlib import Path\n",
    "import numpy as np\n",
    "\n",
    "random_seed = 17\n",
    "np.random.seed(random_seed)"
   ]
  },
  {
   "cell_type": "markdown",
   "id": "092197b6-1dc5-4154-98e7-6ad74c75b88e",
   "metadata": {},
   "source": [
    "## Load data"
   ]
  },
  {
   "cell_type": "code",
   "execution_count": 3,
   "metadata": {},
   "outputs": [],
   "source": [
    "OUTSIDE_DATA_DIR = Path(\"../data\")\n",
    "DATA_PATH = OUTSIDE_DATA_DIR / \"orig_driver_stats.parquet\"\n",
    "if not DATA_PATH.is_file():\n",
    "    raise Exception(\"DATA_PATH not found\")"
   ]
  },
  {
   "cell_type": "code",
   "execution_count": 4,
   "metadata": {},
   "outputs": [
    {
     "data": {
      "text/html": [
       "<div>\n",
       "<style scoped>\n",
       "    .dataframe tbody tr th:only-of-type {\n",
       "        vertical-align: middle;\n",
       "    }\n",
       "\n",
       "    .dataframe tbody tr th {\n",
       "        vertical-align: top;\n",
       "    }\n",
       "\n",
       "    .dataframe thead th {\n",
       "        text-align: right;\n",
       "    }\n",
       "</style>\n",
       "<table border=\"1\" class=\"dataframe\">\n",
       "  <thead>\n",
       "    <tr style=\"text-align: right;\">\n",
       "      <th></th>\n",
       "      <th>datetime</th>\n",
       "      <th>driver_id</th>\n",
       "      <th>conv_rate</th>\n",
       "      <th>acc_rate</th>\n",
       "      <th>avg_daily_trips</th>\n",
       "      <th>created</th>\n",
       "    </tr>\n",
       "  </thead>\n",
       "  <tbody>\n",
       "    <tr>\n",
       "      <th>0</th>\n",
       "      <td>2021-07-13 11:00:00+00:00</td>\n",
       "      <td>1005</td>\n",
       "      <td>0.373837</td>\n",
       "      <td>0.154890</td>\n",
       "      <td>498</td>\n",
       "      <td>2021-07-28 11:08:04.802</td>\n",
       "    </tr>\n",
       "    <tr>\n",
       "      <th>1</th>\n",
       "      <td>2021-07-13 12:00:00+00:00</td>\n",
       "      <td>1005</td>\n",
       "      <td>0.571627</td>\n",
       "      <td>0.643958</td>\n",
       "      <td>656</td>\n",
       "      <td>2021-07-28 11:08:04.802</td>\n",
       "    </tr>\n",
       "    <tr>\n",
       "      <th>2</th>\n",
       "      <td>2021-07-13 13:00:00+00:00</td>\n",
       "      <td>1005</td>\n",
       "      <td>0.399909</td>\n",
       "      <td>0.993888</td>\n",
       "      <td>722</td>\n",
       "      <td>2021-07-28 11:08:04.802</td>\n",
       "    </tr>\n",
       "    <tr>\n",
       "      <th>3</th>\n",
       "      <td>2021-07-13 14:00:00+00:00</td>\n",
       "      <td>1005</td>\n",
       "      <td>0.967468</td>\n",
       "      <td>0.788458</td>\n",
       "      <td>424</td>\n",
       "      <td>2021-07-28 11:08:04.802</td>\n",
       "    </tr>\n",
       "    <tr>\n",
       "      <th>4</th>\n",
       "      <td>2021-07-13 15:00:00+00:00</td>\n",
       "      <td>1005</td>\n",
       "      <td>0.024679</td>\n",
       "      <td>0.956064</td>\n",
       "      <td>569</td>\n",
       "      <td>2021-07-28 11:08:04.802</td>\n",
       "    </tr>\n",
       "    <tr>\n",
       "      <th>...</th>\n",
       "      <td>...</td>\n",
       "      <td>...</td>\n",
       "      <td>...</td>\n",
       "      <td>...</td>\n",
       "      <td>...</td>\n",
       "      <td>...</td>\n",
       "    </tr>\n",
       "    <tr>\n",
       "      <th>1802</th>\n",
       "      <td>2021-07-28 09:00:00+00:00</td>\n",
       "      <td>1001</td>\n",
       "      <td>0.089418</td>\n",
       "      <td>0.311234</td>\n",
       "      <td>485</td>\n",
       "      <td>2021-07-28 11:08:04.802</td>\n",
       "    </tr>\n",
       "    <tr>\n",
       "      <th>1803</th>\n",
       "      <td>2021-07-28 10:00:00+00:00</td>\n",
       "      <td>1001</td>\n",
       "      <td>0.222534</td>\n",
       "      <td>0.927691</td>\n",
       "      <td>114</td>\n",
       "      <td>2021-07-28 11:08:04.802</td>\n",
       "    </tr>\n",
       "    <tr>\n",
       "      <th>1804</th>\n",
       "      <td>2021-04-12 07:00:00+00:00</td>\n",
       "      <td>1001</td>\n",
       "      <td>0.175219</td>\n",
       "      <td>0.761434</td>\n",
       "      <td>385</td>\n",
       "      <td>2021-07-28 11:08:04.802</td>\n",
       "    </tr>\n",
       "    <tr>\n",
       "      <th>902</th>\n",
       "      <td>2021-07-20 23:00:00+00:00</td>\n",
       "      <td>1003</td>\n",
       "      <td>0.025968</td>\n",
       "      <td>0.109748</td>\n",
       "      <td>55</td>\n",
       "      <td>2021-07-28 11:08:04.802</td>\n",
       "    </tr>\n",
       "    <tr>\n",
       "      <th>902</th>\n",
       "      <td>2021-07-20 23:00:00+00:00</td>\n",
       "      <td>1003</td>\n",
       "      <td>0.025968</td>\n",
       "      <td>0.109748</td>\n",
       "      <td>55</td>\n",
       "      <td>2021-07-28 11:08:04.802</td>\n",
       "    </tr>\n",
       "  </tbody>\n",
       "</table>\n",
       "<p>1807 rows × 6 columns</p>\n",
       "</div>"
      ],
      "text/plain": [
       "                      datetime  driver_id  conv_rate  acc_rate  \\\n",
       "0    2021-07-13 11:00:00+00:00       1005   0.373837  0.154890   \n",
       "1    2021-07-13 12:00:00+00:00       1005   0.571627  0.643958   \n",
       "2    2021-07-13 13:00:00+00:00       1005   0.399909  0.993888   \n",
       "3    2021-07-13 14:00:00+00:00       1005   0.967468  0.788458   \n",
       "4    2021-07-13 15:00:00+00:00       1005   0.024679  0.956064   \n",
       "...                        ...        ...        ...       ...   \n",
       "1802 2021-07-28 09:00:00+00:00       1001   0.089418  0.311234   \n",
       "1803 2021-07-28 10:00:00+00:00       1001   0.222534  0.927691   \n",
       "1804 2021-04-12 07:00:00+00:00       1001   0.175219  0.761434   \n",
       "902  2021-07-20 23:00:00+00:00       1003   0.025968  0.109748   \n",
       "902  2021-07-20 23:00:00+00:00       1003   0.025968  0.109748   \n",
       "\n",
       "      avg_daily_trips                 created  \n",
       "0                 498 2021-07-28 11:08:04.802  \n",
       "1                 656 2021-07-28 11:08:04.802  \n",
       "2                 722 2021-07-28 11:08:04.802  \n",
       "3                 424 2021-07-28 11:08:04.802  \n",
       "4                 569 2021-07-28 11:08:04.802  \n",
       "...               ...                     ...  \n",
       "1802              485 2021-07-28 11:08:04.802  \n",
       "1803              114 2021-07-28 11:08:04.802  \n",
       "1804              385 2021-07-28 11:08:04.802  \n",
       "902                55 2021-07-28 11:08:04.802  \n",
       "902                55 2021-07-28 11:08:04.802  \n",
       "\n",
       "[1807 rows x 6 columns]"
      ]
     },
     "execution_count": 4,
     "metadata": {},
     "output_type": "execute_result"
    }
   ],
   "source": [
    "df_orig = pd.read_parquet(DATA_PATH, engine='fastparquet')\n",
    "df_orig"
   ]
  },
  {
   "cell_type": "code",
   "execution_count": 5,
   "id": "b2a01fb6-a721-43be-b441-c788432a2b42",
   "metadata": {},
   "outputs": [
    {
     "name": "stdout",
     "output_type": "stream",
     "text": [
      "<class 'pandas.core.frame.DataFrame'>\n",
      "Int64Index: 1807 entries, 0 to 902\n",
      "Data columns (total 6 columns):\n",
      " #   Column           Non-Null Count  Dtype              \n",
      "---  ------           --------------  -----              \n",
      " 0   datetime         1807 non-null   datetime64[ns, UTC]\n",
      " 1   driver_id        1807 non-null   int64              \n",
      " 2   conv_rate        1807 non-null   float64            \n",
      " 3   acc_rate         1807 non-null   float64            \n",
      " 4   avg_daily_trips  1807 non-null   int64              \n",
      " 5   created          1807 non-null   datetime64[ns]     \n",
      "dtypes: datetime64[ns, UTC](1), datetime64[ns](1), float64(2), int64(2)\n",
      "memory usage: 98.8 KB\n"
     ]
    }
   ],
   "source": [
    "df_orig.info()"
   ]
  },
  {
   "cell_type": "code",
   "execution_count": 6,
   "metadata": {},
   "outputs": [
    {
     "data": {
      "text/html": [
       "<div>\n",
       "<style scoped>\n",
       "    .dataframe tbody tr th:only-of-type {\n",
       "        vertical-align: middle;\n",
       "    }\n",
       "\n",
       "    .dataframe tbody tr th {\n",
       "        vertical-align: top;\n",
       "    }\n",
       "\n",
       "    .dataframe thead th {\n",
       "        text-align: right;\n",
       "    }\n",
       "</style>\n",
       "<table border=\"1\" class=\"dataframe\">\n",
       "  <thead>\n",
       "    <tr style=\"text-align: right;\">\n",
       "      <th></th>\n",
       "      <th>driver_id</th>\n",
       "      <th>conv_rate</th>\n",
       "      <th>acc_rate</th>\n",
       "      <th>avg_daily_trips</th>\n",
       "    </tr>\n",
       "  </thead>\n",
       "  <tbody>\n",
       "    <tr>\n",
       "      <th>count</th>\n",
       "      <td>1807.000000</td>\n",
       "      <td>1807.000000</td>\n",
       "      <td>1807.000000</td>\n",
       "      <td>1807.000000</td>\n",
       "    </tr>\n",
       "    <tr>\n",
       "      <th>mean</th>\n",
       "      <td>1003.000000</td>\n",
       "      <td>0.488267</td>\n",
       "      <td>0.505205</td>\n",
       "      <td>500.871057</td>\n",
       "    </tr>\n",
       "    <tr>\n",
       "      <th>std</th>\n",
       "      <td>1.413822</td>\n",
       "      <td>0.291862</td>\n",
       "      <td>0.291230</td>\n",
       "      <td>293.412315</td>\n",
       "    </tr>\n",
       "    <tr>\n",
       "      <th>min</th>\n",
       "      <td>1001.000000</td>\n",
       "      <td>0.000482</td>\n",
       "      <td>0.000542</td>\n",
       "      <td>0.000000</td>\n",
       "    </tr>\n",
       "    <tr>\n",
       "      <th>25%</th>\n",
       "      <td>1002.000000</td>\n",
       "      <td>0.238879</td>\n",
       "      <td>0.251682</td>\n",
       "      <td>236.000000</td>\n",
       "    </tr>\n",
       "    <tr>\n",
       "      <th>50%</th>\n",
       "      <td>1003.000000</td>\n",
       "      <td>0.491606</td>\n",
       "      <td>0.507843</td>\n",
       "      <td>506.000000</td>\n",
       "    </tr>\n",
       "    <tr>\n",
       "      <th>75%</th>\n",
       "      <td>1004.000000</td>\n",
       "      <td>0.732576</td>\n",
       "      <td>0.770225</td>\n",
       "      <td>754.000000</td>\n",
       "    </tr>\n",
       "    <tr>\n",
       "      <th>max</th>\n",
       "      <td>1005.000000</td>\n",
       "      <td>0.998767</td>\n",
       "      <td>0.999445</td>\n",
       "      <td>998.000000</td>\n",
       "    </tr>\n",
       "  </tbody>\n",
       "</table>\n",
       "</div>"
      ],
      "text/plain": [
       "         driver_id    conv_rate     acc_rate  avg_daily_trips\n",
       "count  1807.000000  1807.000000  1807.000000      1807.000000\n",
       "mean   1003.000000     0.488267     0.505205       500.871057\n",
       "std       1.413822     0.291862     0.291230       293.412315\n",
       "min    1001.000000     0.000482     0.000542         0.000000\n",
       "25%    1002.000000     0.238879     0.251682       236.000000\n",
       "50%    1003.000000     0.491606     0.507843       506.000000\n",
       "75%    1004.000000     0.732576     0.770225       754.000000\n",
       "max    1005.000000     0.998767     0.999445       998.000000"
      ]
     },
     "execution_count": 6,
     "metadata": {},
     "output_type": "execute_result"
    }
   ],
   "source": [
    "desc_df = df_orig.describe()\n",
    "desc_df"
   ]
  },
  {
   "cell_type": "markdown",
   "metadata": {},
   "source": [
    "## Mock feature drift data"
   ]
  },
  {
   "cell_type": "code",
   "execution_count": 7,
   "metadata": {},
   "outputs": [],
   "source": [
    "from sklearn.datasets import make_classification\n",
    "from sklearn.preprocessing import MinMaxScaler"
   ]
  },
  {
   "cell_type": "code",
   "execution_count": 8,
   "metadata": {},
   "outputs": [
    {
     "name": "stdout",
     "output_type": "stream",
     "text": [
      "[1001 1002 1003 1004 1005]\n"
     ]
    }
   ],
   "source": [
    "driver_ids = np.unique(df_orig['driver_id'])\n",
    "print(driver_ids)\n",
    "N_SAMPLES = driver_ids.shape[0]\n",
    "\n",
    "X, _ = make_classification(n_samples=N_SAMPLES, random_state=random_seed)\n",
    "scaler = MinMaxScaler(feature_range=(0.05, 0.25))\n",
    "X = scaler.fit_transform(X)\n",
    "# Shift feature range\n",
    "scaler = MinMaxScaler(feature_range=(0.75, 0.95))\n",
    "X_shift = scaler.fit_transform(X)"
   ]
  },
  {
   "cell_type": "markdown",
   "metadata": {},
   "source": [
    "### Mock normal data"
   ]
  },
  {
   "cell_type": "code",
   "execution_count": 9,
   "metadata": {},
   "outputs": [],
   "source": [
    "def create_dataset(generated_X):\n",
    "    df = pd.DataFrame()\n",
    "    df['conv_rate'] = generated_X[:, 0]\n",
    "    df['acc_rate'] = generated_X[:, 1]\n",
    "    df['avg_daily_trips'] = np.array((generated_X[:, 2] * 1000), dtype=int)\n",
    "    return df"
   ]
  },
  {
   "cell_type": "code",
   "execution_count": 10,
   "metadata": {},
   "outputs": [
    {
     "data": {
      "text/html": [
       "<div>\n",
       "<style scoped>\n",
       "    .dataframe tbody tr th:only-of-type {\n",
       "        vertical-align: middle;\n",
       "    }\n",
       "\n",
       "    .dataframe tbody tr th {\n",
       "        vertical-align: top;\n",
       "    }\n",
       "\n",
       "    .dataframe thead th {\n",
       "        text-align: right;\n",
       "    }\n",
       "</style>\n",
       "<table border=\"1\" class=\"dataframe\">\n",
       "  <thead>\n",
       "    <tr style=\"text-align: right;\">\n",
       "      <th></th>\n",
       "      <th>conv_rate</th>\n",
       "      <th>acc_rate</th>\n",
       "      <th>avg_daily_trips</th>\n",
       "    </tr>\n",
       "  </thead>\n",
       "  <tbody>\n",
       "    <tr>\n",
       "      <th>count</th>\n",
       "      <td>5.000000</td>\n",
       "      <td>5.000000</td>\n",
       "      <td>5.00000</td>\n",
       "    </tr>\n",
       "    <tr>\n",
       "      <th>mean</th>\n",
       "      <td>0.148341</td>\n",
       "      <td>0.189847</td>\n",
       "      <td>151.00000</td>\n",
       "    </tr>\n",
       "    <tr>\n",
       "      <th>std</th>\n",
       "      <td>0.084737</td>\n",
       "      <td>0.080820</td>\n",
       "      <td>91.47404</td>\n",
       "    </tr>\n",
       "    <tr>\n",
       "      <th>min</th>\n",
       "      <td>0.050000</td>\n",
       "      <td>0.050000</td>\n",
       "      <td>49.00000</td>\n",
       "    </tr>\n",
       "    <tr>\n",
       "      <th>25%</th>\n",
       "      <td>0.071032</td>\n",
       "      <td>0.192864</td>\n",
       "      <td>103.00000</td>\n",
       "    </tr>\n",
       "    <tr>\n",
       "      <th>50%</th>\n",
       "      <td>0.184332</td>\n",
       "      <td>0.226879</td>\n",
       "      <td>107.00000</td>\n",
       "    </tr>\n",
       "    <tr>\n",
       "      <th>75%</th>\n",
       "      <td>0.186341</td>\n",
       "      <td>0.229490</td>\n",
       "      <td>246.00000</td>\n",
       "    </tr>\n",
       "    <tr>\n",
       "      <th>max</th>\n",
       "      <td>0.250000</td>\n",
       "      <td>0.250000</td>\n",
       "      <td>250.00000</td>\n",
       "    </tr>\n",
       "  </tbody>\n",
       "</table>\n",
       "</div>"
      ],
      "text/plain": [
       "       conv_rate  acc_rate  avg_daily_trips\n",
       "count   5.000000  5.000000          5.00000\n",
       "mean    0.148341  0.189847        151.00000\n",
       "std     0.084737  0.080820         91.47404\n",
       "min     0.050000  0.050000         49.00000\n",
       "25%     0.071032  0.192864        103.00000\n",
       "50%     0.184332  0.226879        107.00000\n",
       "75%     0.186341  0.229490        246.00000\n",
       "max     0.250000  0.250000        250.00000"
      ]
     },
     "execution_count": 10,
     "metadata": {},
     "output_type": "execute_result"
    }
   ],
   "source": [
    "normal_df = create_dataset(X)\n",
    "normal_df.describe()"
   ]
  },
  {
   "cell_type": "markdown",
   "metadata": {},
   "source": [
    "### Mock drift data"
   ]
  },
  {
   "cell_type": "code",
   "execution_count": 11,
   "metadata": {},
   "outputs": [
    {
     "data": {
      "text/html": [
       "<div>\n",
       "<style scoped>\n",
       "    .dataframe tbody tr th:only-of-type {\n",
       "        vertical-align: middle;\n",
       "    }\n",
       "\n",
       "    .dataframe tbody tr th {\n",
       "        vertical-align: top;\n",
       "    }\n",
       "\n",
       "    .dataframe thead th {\n",
       "        text-align: right;\n",
       "    }\n",
       "</style>\n",
       "<table border=\"1\" class=\"dataframe\">\n",
       "  <thead>\n",
       "    <tr style=\"text-align: right;\">\n",
       "      <th></th>\n",
       "      <th>conv_rate</th>\n",
       "      <th>acc_rate</th>\n",
       "      <th>avg_daily_trips</th>\n",
       "    </tr>\n",
       "  </thead>\n",
       "  <tbody>\n",
       "    <tr>\n",
       "      <th>count</th>\n",
       "      <td>5.000000</td>\n",
       "      <td>5.000000</td>\n",
       "      <td>5.000000</td>\n",
       "    </tr>\n",
       "    <tr>\n",
       "      <th>mean</th>\n",
       "      <td>0.848341</td>\n",
       "      <td>0.889847</td>\n",
       "      <td>851.200000</td>\n",
       "    </tr>\n",
       "    <tr>\n",
       "      <th>std</th>\n",
       "      <td>0.084737</td>\n",
       "      <td>0.080820</td>\n",
       "      <td>91.195943</td>\n",
       "    </tr>\n",
       "    <tr>\n",
       "      <th>min</th>\n",
       "      <td>0.750000</td>\n",
       "      <td>0.750000</td>\n",
       "      <td>750.000000</td>\n",
       "    </tr>\n",
       "    <tr>\n",
       "      <th>25%</th>\n",
       "      <td>0.771032</td>\n",
       "      <td>0.892864</td>\n",
       "      <td>803.000000</td>\n",
       "    </tr>\n",
       "    <tr>\n",
       "      <th>50%</th>\n",
       "      <td>0.884332</td>\n",
       "      <td>0.926879</td>\n",
       "      <td>807.000000</td>\n",
       "    </tr>\n",
       "    <tr>\n",
       "      <th>75%</th>\n",
       "      <td>0.886341</td>\n",
       "      <td>0.929490</td>\n",
       "      <td>946.000000</td>\n",
       "    </tr>\n",
       "    <tr>\n",
       "      <th>max</th>\n",
       "      <td>0.950000</td>\n",
       "      <td>0.950000</td>\n",
       "      <td>950.000000</td>\n",
       "    </tr>\n",
       "  </tbody>\n",
       "</table>\n",
       "</div>"
      ],
      "text/plain": [
       "       conv_rate  acc_rate  avg_daily_trips\n",
       "count   5.000000  5.000000         5.000000\n",
       "mean    0.848341  0.889847       851.200000\n",
       "std     0.084737  0.080820        91.195943\n",
       "min     0.750000  0.750000       750.000000\n",
       "25%     0.771032  0.892864       803.000000\n",
       "50%     0.884332  0.926879       807.000000\n",
       "75%     0.886341  0.929490       946.000000\n",
       "max     0.950000  0.950000       950.000000"
      ]
     },
     "execution_count": 11,
     "metadata": {},
     "output_type": "execute_result"
    }
   ],
   "source": [
    "drift_df = create_dataset(X_shift)\n",
    "drift_df.describe()"
   ]
  },
  {
   "cell_type": "markdown",
   "metadata": {},
   "source": [
    "### Post-format data"
   ]
  },
  {
   "cell_type": "code",
   "execution_count": 12,
   "metadata": {},
   "outputs": [],
   "source": [
    "shuffled_orig_df = df_orig.sample(frac=1, random_state=random_seed)\n",
    "\n",
    "def post_format_df(df):\n",
    "    df = df.assign(driver_id=driver_ids)\n",
    "    df = df.assign(created=shuffled_orig_df['created'][:len(df)].values)\n",
    "    df = df.assign(datetime=shuffled_orig_df['datetime'][:len(df)].values)\n",
    "    df['datetime'] = pd.to_datetime(df['datetime'], utc=True)\n",
    "    return df\n",
    "\n",
    "normal_df = post_format_df(normal_df)\n",
    "drift_df = post_format_df(drift_df)"
   ]
  },
  {
   "cell_type": "code",
   "execution_count": 13,
   "metadata": {},
   "outputs": [
    {
     "data": {
      "text/html": [
       "<div>\n",
       "<style scoped>\n",
       "    .dataframe tbody tr th:only-of-type {\n",
       "        vertical-align: middle;\n",
       "    }\n",
       "\n",
       "    .dataframe tbody tr th {\n",
       "        vertical-align: top;\n",
       "    }\n",
       "\n",
       "    .dataframe thead th {\n",
       "        text-align: right;\n",
       "    }\n",
       "</style>\n",
       "<table border=\"1\" class=\"dataframe\">\n",
       "  <thead>\n",
       "    <tr style=\"text-align: right;\">\n",
       "      <th></th>\n",
       "      <th>conv_rate</th>\n",
       "      <th>acc_rate</th>\n",
       "      <th>avg_daily_trips</th>\n",
       "      <th>driver_id</th>\n",
       "      <th>created</th>\n",
       "      <th>datetime</th>\n",
       "    </tr>\n",
       "  </thead>\n",
       "  <tbody>\n",
       "    <tr>\n",
       "      <th>0</th>\n",
       "      <td>0.186341</td>\n",
       "      <td>0.226879</td>\n",
       "      <td>107</td>\n",
       "      <td>1001</td>\n",
       "      <td>2021-07-28 11:08:04.802</td>\n",
       "      <td>2021-07-19 23:00:00+00:00</td>\n",
       "    </tr>\n",
       "    <tr>\n",
       "      <th>1</th>\n",
       "      <td>0.071032</td>\n",
       "      <td>0.229490</td>\n",
       "      <td>250</td>\n",
       "      <td>1002</td>\n",
       "      <td>2021-07-28 11:08:04.802</td>\n",
       "      <td>2021-07-18 06:00:00+00:00</td>\n",
       "    </tr>\n",
       "    <tr>\n",
       "      <th>2</th>\n",
       "      <td>0.050000</td>\n",
       "      <td>0.192864</td>\n",
       "      <td>103</td>\n",
       "      <td>1003</td>\n",
       "      <td>2021-07-28 11:08:04.802</td>\n",
       "      <td>2021-07-28 09:00:00+00:00</td>\n",
       "    </tr>\n",
       "    <tr>\n",
       "      <th>3</th>\n",
       "      <td>0.184332</td>\n",
       "      <td>0.050000</td>\n",
       "      <td>49</td>\n",
       "      <td>1004</td>\n",
       "      <td>2021-07-28 11:08:04.802</td>\n",
       "      <td>2021-07-27 10:00:00+00:00</td>\n",
       "    </tr>\n",
       "    <tr>\n",
       "      <th>4</th>\n",
       "      <td>0.250000</td>\n",
       "      <td>0.250000</td>\n",
       "      <td>246</td>\n",
       "      <td>1005</td>\n",
       "      <td>2021-07-28 11:08:04.802</td>\n",
       "      <td>2021-07-23 05:00:00+00:00</td>\n",
       "    </tr>\n",
       "  </tbody>\n",
       "</table>\n",
       "</div>"
      ],
      "text/plain": [
       "   conv_rate  acc_rate  avg_daily_trips  driver_id                 created  \\\n",
       "0   0.186341  0.226879              107       1001 2021-07-28 11:08:04.802   \n",
       "1   0.071032  0.229490              250       1002 2021-07-28 11:08:04.802   \n",
       "2   0.050000  0.192864              103       1003 2021-07-28 11:08:04.802   \n",
       "3   0.184332  0.050000               49       1004 2021-07-28 11:08:04.802   \n",
       "4   0.250000  0.250000              246       1005 2021-07-28 11:08:04.802   \n",
       "\n",
       "                   datetime  \n",
       "0 2021-07-19 23:00:00+00:00  \n",
       "1 2021-07-18 06:00:00+00:00  \n",
       "2 2021-07-28 09:00:00+00:00  \n",
       "3 2021-07-27 10:00:00+00:00  \n",
       "4 2021-07-23 05:00:00+00:00  "
      ]
     },
     "execution_count": 13,
     "metadata": {},
     "output_type": "execute_result"
    }
   ],
   "source": [
    "normal_df"
   ]
  },
  {
   "cell_type": "code",
   "execution_count": 14,
   "metadata": {},
   "outputs": [
    {
     "name": "stdout",
     "output_type": "stream",
     "text": [
      "<class 'pandas.core.frame.DataFrame'>\n",
      "RangeIndex: 5 entries, 0 to 4\n",
      "Data columns (total 6 columns):\n",
      " #   Column           Non-Null Count  Dtype              \n",
      "---  ------           --------------  -----              \n",
      " 0   conv_rate        5 non-null      float64            \n",
      " 1   acc_rate         5 non-null      float64            \n",
      " 2   avg_daily_trips  5 non-null      int64              \n",
      " 3   driver_id        5 non-null      int64              \n",
      " 4   created          5 non-null      datetime64[ns]     \n",
      " 5   datetime         5 non-null      datetime64[ns, UTC]\n",
      "dtypes: datetime64[ns, UTC](1), datetime64[ns](1), float64(2), int64(2)\n",
      "memory usage: 368.0 bytes\n"
     ]
    }
   ],
   "source": [
    "normal_df.info()"
   ]
  },
  {
   "cell_type": "code",
   "execution_count": 15,
   "metadata": {},
   "outputs": [
    {
     "data": {
      "text/html": [
       "<div>\n",
       "<style scoped>\n",
       "    .dataframe tbody tr th:only-of-type {\n",
       "        vertical-align: middle;\n",
       "    }\n",
       "\n",
       "    .dataframe tbody tr th {\n",
       "        vertical-align: top;\n",
       "    }\n",
       "\n",
       "    .dataframe thead th {\n",
       "        text-align: right;\n",
       "    }\n",
       "</style>\n",
       "<table border=\"1\" class=\"dataframe\">\n",
       "  <thead>\n",
       "    <tr style=\"text-align: right;\">\n",
       "      <th></th>\n",
       "      <th>conv_rate</th>\n",
       "      <th>acc_rate</th>\n",
       "      <th>avg_daily_trips</th>\n",
       "      <th>driver_id</th>\n",
       "      <th>created</th>\n",
       "      <th>datetime</th>\n",
       "    </tr>\n",
       "  </thead>\n",
       "  <tbody>\n",
       "    <tr>\n",
       "      <th>0</th>\n",
       "      <td>0.886341</td>\n",
       "      <td>0.926879</td>\n",
       "      <td>807</td>\n",
       "      <td>1001</td>\n",
       "      <td>2021-07-28 11:08:04.802</td>\n",
       "      <td>2021-07-19 23:00:00+00:00</td>\n",
       "    </tr>\n",
       "    <tr>\n",
       "      <th>1</th>\n",
       "      <td>0.771032</td>\n",
       "      <td>0.929490</td>\n",
       "      <td>950</td>\n",
       "      <td>1002</td>\n",
       "      <td>2021-07-28 11:08:04.802</td>\n",
       "      <td>2021-07-18 06:00:00+00:00</td>\n",
       "    </tr>\n",
       "    <tr>\n",
       "      <th>2</th>\n",
       "      <td>0.750000</td>\n",
       "      <td>0.892864</td>\n",
       "      <td>803</td>\n",
       "      <td>1003</td>\n",
       "      <td>2021-07-28 11:08:04.802</td>\n",
       "      <td>2021-07-28 09:00:00+00:00</td>\n",
       "    </tr>\n",
       "    <tr>\n",
       "      <th>3</th>\n",
       "      <td>0.884332</td>\n",
       "      <td>0.750000</td>\n",
       "      <td>750</td>\n",
       "      <td>1004</td>\n",
       "      <td>2021-07-28 11:08:04.802</td>\n",
       "      <td>2021-07-27 10:00:00+00:00</td>\n",
       "    </tr>\n",
       "    <tr>\n",
       "      <th>4</th>\n",
       "      <td>0.950000</td>\n",
       "      <td>0.950000</td>\n",
       "      <td>946</td>\n",
       "      <td>1005</td>\n",
       "      <td>2021-07-28 11:08:04.802</td>\n",
       "      <td>2021-07-23 05:00:00+00:00</td>\n",
       "    </tr>\n",
       "  </tbody>\n",
       "</table>\n",
       "</div>"
      ],
      "text/plain": [
       "   conv_rate  acc_rate  avg_daily_trips  driver_id                 created  \\\n",
       "0   0.886341  0.926879              807       1001 2021-07-28 11:08:04.802   \n",
       "1   0.771032  0.929490              950       1002 2021-07-28 11:08:04.802   \n",
       "2   0.750000  0.892864              803       1003 2021-07-28 11:08:04.802   \n",
       "3   0.884332  0.750000              750       1004 2021-07-28 11:08:04.802   \n",
       "4   0.950000  0.950000              946       1005 2021-07-28 11:08:04.802   \n",
       "\n",
       "                   datetime  \n",
       "0 2021-07-19 23:00:00+00:00  \n",
       "1 2021-07-18 06:00:00+00:00  \n",
       "2 2021-07-28 09:00:00+00:00  \n",
       "3 2021-07-27 10:00:00+00:00  \n",
       "4 2021-07-23 05:00:00+00:00  "
      ]
     },
     "execution_count": 15,
     "metadata": {},
     "output_type": "execute_result"
    }
   ],
   "source": [
    "drift_df"
   ]
  },
  {
   "cell_type": "code",
   "execution_count": 16,
   "metadata": {},
   "outputs": [
    {
     "name": "stdout",
     "output_type": "stream",
     "text": [
      "<class 'pandas.core.frame.DataFrame'>\n",
      "RangeIndex: 5 entries, 0 to 4\n",
      "Data columns (total 6 columns):\n",
      " #   Column           Non-Null Count  Dtype              \n",
      "---  ------           --------------  -----              \n",
      " 0   conv_rate        5 non-null      float64            \n",
      " 1   acc_rate         5 non-null      float64            \n",
      " 2   avg_daily_trips  5 non-null      int64              \n",
      " 3   driver_id        5 non-null      int64              \n",
      " 4   created          5 non-null      datetime64[ns]     \n",
      " 5   datetime         5 non-null      datetime64[ns, UTC]\n",
      "dtypes: datetime64[ns, UTC](1), datetime64[ns](1), float64(2), int64(2)\n",
      "memory usage: 368.0 bytes\n"
     ]
    }
   ],
   "source": [
    "drift_df.info()"
   ]
  },
  {
   "cell_type": "markdown",
   "metadata": {},
   "source": [
    "### Mock target"
   ]
  },
  {
   "cell_type": "code",
   "execution_count": 17,
   "metadata": {},
   "outputs": [
    {
     "data": {
      "text/plain": [
       "array([0, 1, 0, 0, 1])"
      ]
     },
     "execution_count": 17,
     "metadata": {},
     "output_type": "execute_result"
    }
   ],
   "source": [
    "y = np.random.choice([0, 1], size=N_SAMPLES, p=[0.3, 0.7])\n",
    "y"
   ]
  },
  {
   "cell_type": "markdown",
   "metadata": {},
   "source": [
    "### Generate request df\n",
    "\n",
    "Include `request_id`, `driver_ids`, `trip_completed_driver_id`"
   ]
  },
  {
   "cell_type": "code",
   "execution_count": 18,
   "metadata": {},
   "outputs": [
    {
     "name": "stdout",
     "output_type": "stream",
     "text": [
      "unique uuid = 5\n"
     ]
    }
   ],
   "source": [
    "import itertools\n",
    "from collections import Counter\n",
    "\n",
    "request_id_list = []\n",
    "driver_ids_list = []\n",
    "\n",
    "for i in range(N_SAMPLES):\n",
    "    request_id = f\"uuid-{i}\"\n",
    "    request_id_list.append(request_id)\n",
    "    driver_id = driver_ids[i % len(driver_ids)]\n",
    "    driver_ids_list.append([driver_id])\n",
    "\n",
    "print(f\"unique uuid = {len(Counter(request_id_list).keys())}\")"
   ]
  },
  {
   "cell_type": "code",
   "execution_count": 19,
   "metadata": {},
   "outputs": [
    {
     "data": {
      "text/html": [
       "<div>\n",
       "<style scoped>\n",
       "    .dataframe tbody tr th:only-of-type {\n",
       "        vertical-align: middle;\n",
       "    }\n",
       "\n",
       "    .dataframe tbody tr th {\n",
       "        vertical-align: top;\n",
       "    }\n",
       "\n",
       "    .dataframe thead th {\n",
       "        text-align: right;\n",
       "    }\n",
       "</style>\n",
       "<table border=\"1\" class=\"dataframe\">\n",
       "  <thead>\n",
       "    <tr style=\"text-align: right;\">\n",
       "      <th></th>\n",
       "      <th>request_id</th>\n",
       "      <th>driver_ids</th>\n",
       "      <th>trip_completed</th>\n",
       "    </tr>\n",
       "  </thead>\n",
       "  <tbody>\n",
       "    <tr>\n",
       "      <th>0</th>\n",
       "      <td>uuid-0</td>\n",
       "      <td>[1001]</td>\n",
       "      <td>0</td>\n",
       "    </tr>\n",
       "    <tr>\n",
       "      <th>1</th>\n",
       "      <td>uuid-1</td>\n",
       "      <td>[1002]</td>\n",
       "      <td>1</td>\n",
       "    </tr>\n",
       "    <tr>\n",
       "      <th>2</th>\n",
       "      <td>uuid-2</td>\n",
       "      <td>[1003]</td>\n",
       "      <td>0</td>\n",
       "    </tr>\n",
       "    <tr>\n",
       "      <th>3</th>\n",
       "      <td>uuid-3</td>\n",
       "      <td>[1004]</td>\n",
       "      <td>0</td>\n",
       "    </tr>\n",
       "    <tr>\n",
       "      <th>4</th>\n",
       "      <td>uuid-4</td>\n",
       "      <td>[1005]</td>\n",
       "      <td>1</td>\n",
       "    </tr>\n",
       "  </tbody>\n",
       "</table>\n",
       "</div>"
      ],
      "text/plain": [
       "  request_id driver_ids  trip_completed\n",
       "0     uuid-0     [1001]               0\n",
       "1     uuid-1     [1002]               1\n",
       "2     uuid-2     [1003]               0\n",
       "3     uuid-3     [1004]               0\n",
       "4     uuid-4     [1005]               1"
      ]
     },
     "execution_count": 19,
     "metadata": {},
     "output_type": "execute_result"
    }
   ],
   "source": [
    "request_df = pd.DataFrame()\n",
    "request_df['request_id'] = request_id_list\n",
    "request_df['driver_ids'] = driver_ids_list\n",
    "request_df['trip_completed'] = y\n",
    "request_df"
   ]
  },
  {
   "cell_type": "code",
   "execution_count": 20,
   "metadata": {},
   "outputs": [
    {
     "data": {
      "text/html": [
       "<div>\n",
       "<style scoped>\n",
       "    .dataframe tbody tr th:only-of-type {\n",
       "        vertical-align: middle;\n",
       "    }\n",
       "\n",
       "    .dataframe tbody tr th {\n",
       "        vertical-align: top;\n",
       "    }\n",
       "\n",
       "    .dataframe thead th {\n",
       "        text-align: right;\n",
       "    }\n",
       "</style>\n",
       "<table border=\"1\" class=\"dataframe\">\n",
       "  <thead>\n",
       "    <tr style=\"text-align: right;\">\n",
       "      <th></th>\n",
       "      <th>trip_completed</th>\n",
       "    </tr>\n",
       "  </thead>\n",
       "  <tbody>\n",
       "    <tr>\n",
       "      <th>count</th>\n",
       "      <td>5.000000</td>\n",
       "    </tr>\n",
       "    <tr>\n",
       "      <th>mean</th>\n",
       "      <td>0.400000</td>\n",
       "    </tr>\n",
       "    <tr>\n",
       "      <th>std</th>\n",
       "      <td>0.547723</td>\n",
       "    </tr>\n",
       "    <tr>\n",
       "      <th>min</th>\n",
       "      <td>0.000000</td>\n",
       "    </tr>\n",
       "    <tr>\n",
       "      <th>25%</th>\n",
       "      <td>0.000000</td>\n",
       "    </tr>\n",
       "    <tr>\n",
       "      <th>50%</th>\n",
       "      <td>0.000000</td>\n",
       "    </tr>\n",
       "    <tr>\n",
       "      <th>75%</th>\n",
       "      <td>1.000000</td>\n",
       "    </tr>\n",
       "    <tr>\n",
       "      <th>max</th>\n",
       "      <td>1.000000</td>\n",
       "    </tr>\n",
       "  </tbody>\n",
       "</table>\n",
       "</div>"
      ],
      "text/plain": [
       "       trip_completed\n",
       "count        5.000000\n",
       "mean         0.400000\n",
       "std          0.547723\n",
       "min          0.000000\n",
       "25%          0.000000\n",
       "50%          0.000000\n",
       "75%          1.000000\n",
       "max          1.000000"
      ]
     },
     "execution_count": 20,
     "metadata": {},
     "output_type": "execute_result"
    }
   ],
   "source": [
    "request_df.describe()"
   ]
  },
  {
   "cell_type": "markdown",
   "metadata": {},
   "source": [
    "## Save mock data"
   ]
  },
  {
   "cell_type": "code",
   "execution_count": 21,
   "metadata": {},
   "outputs": [],
   "source": [
    "NORMAL_DATA_PATH = OUTSIDE_DATA_DIR / \"mock_normal_data.parquet\"\n",
    "DRIFT_DATA_PATH = OUTSIDE_DATA_DIR / \"mock_drift_data.parquet\"\n",
    "REQUEST_DATA_PATH = OUTSIDE_DATA_DIR / \"mock_request_data.csv\"\n",
    "\n",
    "data_cols = ['datetime', 'driver_id', 'conv_rate', 'acc_rate', 'avg_daily_trips', 'created']\n",
    "normal_df[data_cols].to_parquet(NORMAL_DATA_PATH, engine=\"fastparquet\")\n",
    "\n",
    "drift_df[data_cols].to_parquet(DRIFT_DATA_PATH, engine=\"fastparquet\")\n",
    "request_df.to_csv(REQUEST_DATA_PATH, index=False)"
   ]
  },
  {
   "cell_type": "code",
   "execution_count": null,
   "metadata": {},
   "outputs": [],
   "source": []
  }
 ],
 "metadata": {
  "kernelspec": {
   "display_name": "Python 3.9.13 ('mlops-monitoring')",
   "language": "python",
   "name": "python3"
  },
  "language_info": {
   "codemirror_mode": {
    "name": "ipython",
    "version": 3
   },
   "file_extension": ".py",
   "mimetype": "text/x-python",
   "name": "python",
   "nbconvert_exporter": "python",
   "pygments_lexer": "ipython3",
   "version": "3.9.13"
  },
  "orig_nbformat": 4,
  "vscode": {
   "interpreter": {
    "hash": "0924ada4a589b75ad84c87d4985e6df9b04f255eff6dfbed9b8422ba8cd93a76"
   }
  }
 },
 "nbformat": 4,
 "nbformat_minor": 2
}

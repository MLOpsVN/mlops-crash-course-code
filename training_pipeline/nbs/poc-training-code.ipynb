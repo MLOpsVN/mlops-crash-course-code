{
 "cells": [
  {
   "cell_type": "code",
   "execution_count": 1,
   "id": "37ce069d-6d13-4e6a-a36f-fa5bb7c33696",
   "metadata": {},
   "outputs": [
    {
     "name": "stdout",
     "output_type": "stream",
     "text": [
      "/home/tungdao/tung/mlopsvn/code/mlops-crash-course-code/training_pipeline/nbs\n"
     ]
    }
   ],
   "source": [
    "!pwd"
   ]
  },
  {
   "cell_type": "code",
   "execution_count": 2,
   "id": "fafa4c79-80e0-4af1-a4fc-39deab786ba5",
   "metadata": {},
   "outputs": [],
   "source": [
    "import pandas as pd\n",
    "import fastparquet\n",
    "from pathlib import Path\n",
    "import numpy as np\n",
    "\n",
    "random_seed = 17\n",
    "np.random.seed(random_seed)"
   ]
  },
  {
   "cell_type": "markdown",
   "id": "092197b6-1dc5-4154-98e7-6ad74c75b88e",
   "metadata": {},
   "source": [
    "## Load data"
   ]
  },
  {
   "cell_type": "code",
   "execution_count": 3,
   "id": "60f2c94c-0547-420f-862a-f1e067b9ca64",
   "metadata": {},
   "outputs": [],
   "source": [
    "DATA_DIR = Path(\"./data\")\n",
    "DATA_PATH = DATA_DIR / \"exp_driver_stats.parquet\"\n",
    "LABEL_PATH = DATA_DIR / \"exp_driver_orders.csv\"\n",
    "if not DATA_PATH.is_file():\n",
    "    raise Exception(\"DATA_PATH not found\")\n",
    "if not LABEL_PATH.is_file():\n",
    "    raise Exception(\"LABEL_PATH not found\")"
   ]
  },
  {
   "cell_type": "code",
   "execution_count": 4,
   "id": "66d91fde-2455-4530-b114-3692fcd1231a",
   "metadata": {},
   "outputs": [
    {
     "data": {
      "text/html": [
       "<div>\n",
       "<style scoped>\n",
       "    .dataframe tbody tr th:only-of-type {\n",
       "        vertical-align: middle;\n",
       "    }\n",
       "\n",
       "    .dataframe tbody tr th {\n",
       "        vertical-align: top;\n",
       "    }\n",
       "\n",
       "    .dataframe thead th {\n",
       "        text-align: right;\n",
       "    }\n",
       "</style>\n",
       "<table border=\"1\" class=\"dataframe\">\n",
       "  <thead>\n",
       "    <tr style=\"text-align: right;\">\n",
       "      <th></th>\n",
       "      <th>datetime</th>\n",
       "      <th>driver_id</th>\n",
       "      <th>conv_rate</th>\n",
       "      <th>acc_rate</th>\n",
       "      <th>avg_daily_trips</th>\n",
       "      <th>created</th>\n",
       "    </tr>\n",
       "  </thead>\n",
       "  <tbody>\n",
       "    <tr>\n",
       "      <th>0</th>\n",
       "      <td>2021-07-13 11:00:00+00:00</td>\n",
       "      <td>1005</td>\n",
       "      <td>0.373837</td>\n",
       "      <td>0.154890</td>\n",
       "      <td>498</td>\n",
       "      <td>2021-07-28 11:08:04.802</td>\n",
       "    </tr>\n",
       "    <tr>\n",
       "      <th>1</th>\n",
       "      <td>2021-07-13 12:00:00+00:00</td>\n",
       "      <td>1005</td>\n",
       "      <td>0.571627</td>\n",
       "      <td>0.643958</td>\n",
       "      <td>656</td>\n",
       "      <td>2021-07-28 11:08:04.802</td>\n",
       "    </tr>\n",
       "    <tr>\n",
       "      <th>2</th>\n",
       "      <td>2021-07-13 13:00:00+00:00</td>\n",
       "      <td>1005</td>\n",
       "      <td>0.399909</td>\n",
       "      <td>0.993888</td>\n",
       "      <td>722</td>\n",
       "      <td>2021-07-28 11:08:04.802</td>\n",
       "    </tr>\n",
       "    <tr>\n",
       "      <th>3</th>\n",
       "      <td>2021-07-13 14:00:00+00:00</td>\n",
       "      <td>1005</td>\n",
       "      <td>0.967468</td>\n",
       "      <td>0.788458</td>\n",
       "      <td>424</td>\n",
       "      <td>2021-07-28 11:08:04.802</td>\n",
       "    </tr>\n",
       "    <tr>\n",
       "      <th>4</th>\n",
       "      <td>2021-07-13 15:00:00+00:00</td>\n",
       "      <td>1005</td>\n",
       "      <td>0.024679</td>\n",
       "      <td>0.956064</td>\n",
       "      <td>569</td>\n",
       "      <td>2021-07-28 11:08:04.802</td>\n",
       "    </tr>\n",
       "    <tr>\n",
       "      <th>...</th>\n",
       "      <td>...</td>\n",
       "      <td>...</td>\n",
       "      <td>...</td>\n",
       "      <td>...</td>\n",
       "      <td>...</td>\n",
       "      <td>...</td>\n",
       "    </tr>\n",
       "    <tr>\n",
       "      <th>1802</th>\n",
       "      <td>2021-07-28 09:00:00+00:00</td>\n",
       "      <td>1001</td>\n",
       "      <td>0.089418</td>\n",
       "      <td>0.311234</td>\n",
       "      <td>485</td>\n",
       "      <td>2021-07-28 11:08:04.802</td>\n",
       "    </tr>\n",
       "    <tr>\n",
       "      <th>1803</th>\n",
       "      <td>2021-07-28 10:00:00+00:00</td>\n",
       "      <td>1001</td>\n",
       "      <td>0.222534</td>\n",
       "      <td>0.927691</td>\n",
       "      <td>114</td>\n",
       "      <td>2021-07-28 11:08:04.802</td>\n",
       "    </tr>\n",
       "    <tr>\n",
       "      <th>1804</th>\n",
       "      <td>2021-04-12 07:00:00+00:00</td>\n",
       "      <td>1001</td>\n",
       "      <td>0.175219</td>\n",
       "      <td>0.761434</td>\n",
       "      <td>385</td>\n",
       "      <td>2021-07-28 11:08:04.802</td>\n",
       "    </tr>\n",
       "    <tr>\n",
       "      <th>902</th>\n",
       "      <td>2021-07-20 23:00:00+00:00</td>\n",
       "      <td>1003</td>\n",
       "      <td>0.025968</td>\n",
       "      <td>0.109748</td>\n",
       "      <td>55</td>\n",
       "      <td>2021-07-28 11:08:04.802</td>\n",
       "    </tr>\n",
       "    <tr>\n",
       "      <th>902</th>\n",
       "      <td>2021-07-20 23:00:00+00:00</td>\n",
       "      <td>1003</td>\n",
       "      <td>0.025968</td>\n",
       "      <td>0.109748</td>\n",
       "      <td>55</td>\n",
       "      <td>2021-07-28 11:08:04.802</td>\n",
       "    </tr>\n",
       "  </tbody>\n",
       "</table>\n",
       "<p>1807 rows × 6 columns</p>\n",
       "</div>"
      ],
      "text/plain": [
       "                      datetime  driver_id  conv_rate  acc_rate  \\\n",
       "0    2021-07-13 11:00:00+00:00       1005   0.373837  0.154890   \n",
       "1    2021-07-13 12:00:00+00:00       1005   0.571627  0.643958   \n",
       "2    2021-07-13 13:00:00+00:00       1005   0.399909  0.993888   \n",
       "3    2021-07-13 14:00:00+00:00       1005   0.967468  0.788458   \n",
       "4    2021-07-13 15:00:00+00:00       1005   0.024679  0.956064   \n",
       "...                        ...        ...        ...       ...   \n",
       "1802 2021-07-28 09:00:00+00:00       1001   0.089418  0.311234   \n",
       "1803 2021-07-28 10:00:00+00:00       1001   0.222534  0.927691   \n",
       "1804 2021-04-12 07:00:00+00:00       1001   0.175219  0.761434   \n",
       "902  2021-07-20 23:00:00+00:00       1003   0.025968  0.109748   \n",
       "902  2021-07-20 23:00:00+00:00       1003   0.025968  0.109748   \n",
       "\n",
       "      avg_daily_trips                 created  \n",
       "0                 498 2021-07-28 11:08:04.802  \n",
       "1                 656 2021-07-28 11:08:04.802  \n",
       "2                 722 2021-07-28 11:08:04.802  \n",
       "3                 424 2021-07-28 11:08:04.802  \n",
       "4                 569 2021-07-28 11:08:04.802  \n",
       "...               ...                     ...  \n",
       "1802              485 2021-07-28 11:08:04.802  \n",
       "1803              114 2021-07-28 11:08:04.802  \n",
       "1804              385 2021-07-28 11:08:04.802  \n",
       "902                55 2021-07-28 11:08:04.802  \n",
       "902                55 2021-07-28 11:08:04.802  \n",
       "\n",
       "[1807 rows x 6 columns]"
      ]
     },
     "execution_count": 4,
     "metadata": {},
     "output_type": "execute_result"
    }
   ],
   "source": [
    "df_orig = pd.read_parquet(DATA_PATH, engine='fastparquet')\n",
    "df_orig"
   ]
  },
  {
   "cell_type": "code",
   "execution_count": 5,
   "id": "9d6d3cf6-2986-4ade-a150-48fde08e0dda",
   "metadata": {},
   "outputs": [
    {
     "data": {
      "text/html": [
       "<div>\n",
       "<style scoped>\n",
       "    .dataframe tbody tr th:only-of-type {\n",
       "        vertical-align: middle;\n",
       "    }\n",
       "\n",
       "    .dataframe tbody tr th {\n",
       "        vertical-align: top;\n",
       "    }\n",
       "\n",
       "    .dataframe thead th {\n",
       "        text-align: right;\n",
       "    }\n",
       "</style>\n",
       "<table border=\"1\" class=\"dataframe\">\n",
       "  <thead>\n",
       "    <tr style=\"text-align: right;\">\n",
       "      <th></th>\n",
       "      <th>event_timestamp</th>\n",
       "      <th>driver_id</th>\n",
       "      <th>trip_completed</th>\n",
       "    </tr>\n",
       "  </thead>\n",
       "  <tbody>\n",
       "    <tr>\n",
       "      <th>0</th>\n",
       "      <td>2021-04-16 20:29:28+00:00</td>\n",
       "      <td>1001</td>\n",
       "      <td>1</td>\n",
       "    </tr>\n",
       "    <tr>\n",
       "      <th>1</th>\n",
       "      <td>2021-04-17 04:29:28+00:00</td>\n",
       "      <td>1002</td>\n",
       "      <td>0</td>\n",
       "    </tr>\n",
       "    <tr>\n",
       "      <th>2</th>\n",
       "      <td>2021-04-17 12:29:28+00:00</td>\n",
       "      <td>1003</td>\n",
       "      <td>0</td>\n",
       "    </tr>\n",
       "    <tr>\n",
       "      <th>3</th>\n",
       "      <td>2021-04-17 20:29:28+00:00</td>\n",
       "      <td>1001</td>\n",
       "      <td>1</td>\n",
       "    </tr>\n",
       "    <tr>\n",
       "      <th>4</th>\n",
       "      <td>2021-04-18 04:29:28+00:00</td>\n",
       "      <td>1002</td>\n",
       "      <td>0</td>\n",
       "    </tr>\n",
       "    <tr>\n",
       "      <th>5</th>\n",
       "      <td>2021-04-18 12:29:28+00:00</td>\n",
       "      <td>1003</td>\n",
       "      <td>0</td>\n",
       "    </tr>\n",
       "    <tr>\n",
       "      <th>6</th>\n",
       "      <td>2021-04-18 20:29:28+00:00</td>\n",
       "      <td>1001</td>\n",
       "      <td>1</td>\n",
       "    </tr>\n",
       "    <tr>\n",
       "      <th>7</th>\n",
       "      <td>2021-04-19 04:29:28+00:00</td>\n",
       "      <td>1002</td>\n",
       "      <td>0</td>\n",
       "    </tr>\n",
       "    <tr>\n",
       "      <th>8</th>\n",
       "      <td>2021-04-19 12:29:28+00:00</td>\n",
       "      <td>1003</td>\n",
       "      <td>0</td>\n",
       "    </tr>\n",
       "    <tr>\n",
       "      <th>9</th>\n",
       "      <td>2021-04-19 20:29:28+00:00</td>\n",
       "      <td>1004</td>\n",
       "      <td>1</td>\n",
       "    </tr>\n",
       "  </tbody>\n",
       "</table>\n",
       "</div>"
      ],
      "text/plain": [
       "             event_timestamp  driver_id  trip_completed\n",
       "0  2021-04-16 20:29:28+00:00       1001               1\n",
       "1  2021-04-17 04:29:28+00:00       1002               0\n",
       "2  2021-04-17 12:29:28+00:00       1003               0\n",
       "3  2021-04-17 20:29:28+00:00       1001               1\n",
       "4  2021-04-18 04:29:28+00:00       1002               0\n",
       "5  2021-04-18 12:29:28+00:00       1003               0\n",
       "6  2021-04-18 20:29:28+00:00       1001               1\n",
       "7  2021-04-19 04:29:28+00:00       1002               0\n",
       "8  2021-04-19 12:29:28+00:00       1003               0\n",
       "9  2021-04-19 20:29:28+00:00       1004               1"
      ]
     },
     "execution_count": 5,
     "metadata": {},
     "output_type": "execute_result"
    }
   ],
   "source": [
    "label_orig = pd.read_csv(LABEL_PATH, sep=\"\\t\")\n",
    "label_orig"
   ]
  },
  {
   "cell_type": "markdown",
   "id": "7c82ecb5-848a-44d8-92ff-89bd5da6933e",
   "metadata": {},
   "source": [
    "### Format timestamp"
   ]
  },
  {
   "cell_type": "code",
   "execution_count": 6,
   "id": "59756fe5-cd66-4a11-b0d1-28c3a44b3309",
   "metadata": {},
   "outputs": [
    {
     "data": {
      "text/html": [
       "<div>\n",
       "<style scoped>\n",
       "    .dataframe tbody tr th:only-of-type {\n",
       "        vertical-align: middle;\n",
       "    }\n",
       "\n",
       "    .dataframe tbody tr th {\n",
       "        vertical-align: top;\n",
       "    }\n",
       "\n",
       "    .dataframe thead th {\n",
       "        text-align: right;\n",
       "    }\n",
       "</style>\n",
       "<table border=\"1\" class=\"dataframe\">\n",
       "  <thead>\n",
       "    <tr style=\"text-align: right;\">\n",
       "      <th></th>\n",
       "      <th>event_timestamp</th>\n",
       "      <th>driver_id</th>\n",
       "      <th>trip_completed</th>\n",
       "    </tr>\n",
       "  </thead>\n",
       "  <tbody>\n",
       "    <tr>\n",
       "      <th>0</th>\n",
       "      <td>2021-04-16 20:29:28+00:00</td>\n",
       "      <td>1001</td>\n",
       "      <td>1</td>\n",
       "    </tr>\n",
       "    <tr>\n",
       "      <th>1</th>\n",
       "      <td>2021-04-17 04:29:28+00:00</td>\n",
       "      <td>1002</td>\n",
       "      <td>0</td>\n",
       "    </tr>\n",
       "    <tr>\n",
       "      <th>2</th>\n",
       "      <td>2021-04-17 12:29:28+00:00</td>\n",
       "      <td>1003</td>\n",
       "      <td>0</td>\n",
       "    </tr>\n",
       "    <tr>\n",
       "      <th>3</th>\n",
       "      <td>2021-04-17 20:29:28+00:00</td>\n",
       "      <td>1001</td>\n",
       "      <td>1</td>\n",
       "    </tr>\n",
       "    <tr>\n",
       "      <th>4</th>\n",
       "      <td>2021-04-18 04:29:28+00:00</td>\n",
       "      <td>1002</td>\n",
       "      <td>0</td>\n",
       "    </tr>\n",
       "    <tr>\n",
       "      <th>5</th>\n",
       "      <td>2021-04-18 12:29:28+00:00</td>\n",
       "      <td>1003</td>\n",
       "      <td>0</td>\n",
       "    </tr>\n",
       "    <tr>\n",
       "      <th>6</th>\n",
       "      <td>2021-04-18 20:29:28+00:00</td>\n",
       "      <td>1001</td>\n",
       "      <td>1</td>\n",
       "    </tr>\n",
       "    <tr>\n",
       "      <th>7</th>\n",
       "      <td>2021-04-19 04:29:28+00:00</td>\n",
       "      <td>1002</td>\n",
       "      <td>0</td>\n",
       "    </tr>\n",
       "    <tr>\n",
       "      <th>8</th>\n",
       "      <td>2021-04-19 12:29:28+00:00</td>\n",
       "      <td>1003</td>\n",
       "      <td>0</td>\n",
       "    </tr>\n",
       "    <tr>\n",
       "      <th>9</th>\n",
       "      <td>2021-04-19 20:29:28+00:00</td>\n",
       "      <td>1004</td>\n",
       "      <td>1</td>\n",
       "    </tr>\n",
       "  </tbody>\n",
       "</table>\n",
       "</div>"
      ],
      "text/plain": [
       "            event_timestamp  driver_id  trip_completed\n",
       "0 2021-04-16 20:29:28+00:00       1001               1\n",
       "1 2021-04-17 04:29:28+00:00       1002               0\n",
       "2 2021-04-17 12:29:28+00:00       1003               0\n",
       "3 2021-04-17 20:29:28+00:00       1001               1\n",
       "4 2021-04-18 04:29:28+00:00       1002               0\n",
       "5 2021-04-18 12:29:28+00:00       1003               0\n",
       "6 2021-04-18 20:29:28+00:00       1001               1\n",
       "7 2021-04-19 04:29:28+00:00       1002               0\n",
       "8 2021-04-19 12:29:28+00:00       1003               0\n",
       "9 2021-04-19 20:29:28+00:00       1004               1"
      ]
     },
     "execution_count": 6,
     "metadata": {},
     "output_type": "execute_result"
    }
   ],
   "source": [
    "label_orig[\"event_timestamp\"] = pd.to_datetime(label_orig[\"event_timestamp\"])\n",
    "label_orig"
   ]
  },
  {
   "cell_type": "markdown",
   "id": "5197f32f-e614-4c61-ac0a-676772577da6",
   "metadata": {},
   "source": [
    "## Explore data"
   ]
  },
  {
   "cell_type": "code",
   "execution_count": 7,
   "id": "b2a01fb6-a721-43be-b441-c788432a2b42",
   "metadata": {},
   "outputs": [
    {
     "name": "stdout",
     "output_type": "stream",
     "text": [
      "<class 'pandas.core.frame.DataFrame'>\n",
      "Int64Index: 1807 entries, 0 to 902\n",
      "Data columns (total 6 columns):\n",
      " #   Column           Non-Null Count  Dtype              \n",
      "---  ------           --------------  -----              \n",
      " 0   datetime         1807 non-null   datetime64[ns, UTC]\n",
      " 1   driver_id        1807 non-null   int64              \n",
      " 2   conv_rate        1807 non-null   float64            \n",
      " 3   acc_rate         1807 non-null   float64            \n",
      " 4   avg_daily_trips  1807 non-null   int64              \n",
      " 5   created          1807 non-null   datetime64[ns]     \n",
      "dtypes: datetime64[ns, UTC](1), datetime64[ns](1), float64(2), int64(2)\n",
      "memory usage: 98.8 KB\n"
     ]
    }
   ],
   "source": [
    "df_orig.info()"
   ]
  },
  {
   "cell_type": "code",
   "execution_count": 8,
   "id": "30e871f4-e605-4858-a0c5-d4e9464f9f53",
   "metadata": {},
   "outputs": [
    {
     "name": "stdout",
     "output_type": "stream",
     "text": [
      "<class 'pandas.core.frame.DataFrame'>\n",
      "RangeIndex: 10 entries, 0 to 9\n",
      "Data columns (total 3 columns):\n",
      " #   Column           Non-Null Count  Dtype              \n",
      "---  ------           --------------  -----              \n",
      " 0   event_timestamp  10 non-null     datetime64[ns, UTC]\n",
      " 1   driver_id        10 non-null     int64              \n",
      " 2   trip_completed   10 non-null     int64              \n",
      "dtypes: datetime64[ns, UTC](1), int64(2)\n",
      "memory usage: 368.0 bytes\n"
     ]
    }
   ],
   "source": [
    "label_orig.info()"
   ]
  },
  {
   "cell_type": "markdown",
   "id": "33625530-dc96-4b03-9764-d40a205c3034",
   "metadata": {},
   "source": [
    "## Training"
   ]
  },
  {
   "cell_type": "markdown",
   "id": "1603cefb",
   "metadata": {},
   "source": [
    "### Merge features with labels"
   ]
  },
  {
   "cell_type": "code",
   "execution_count": 9,
   "id": "13b90970",
   "metadata": {},
   "outputs": [
    {
     "data": {
      "text/html": [
       "<div>\n",
       "<style scoped>\n",
       "    .dataframe tbody tr th:only-of-type {\n",
       "        vertical-align: middle;\n",
       "    }\n",
       "\n",
       "    .dataframe tbody tr th {\n",
       "        vertical-align: top;\n",
       "    }\n",
       "\n",
       "    .dataframe thead th {\n",
       "        text-align: right;\n",
       "    }\n",
       "</style>\n",
       "<table border=\"1\" class=\"dataframe\">\n",
       "  <thead>\n",
       "    <tr style=\"text-align: right;\">\n",
       "      <th></th>\n",
       "      <th>datetime</th>\n",
       "      <th>driver_id</th>\n",
       "      <th>conv_rate</th>\n",
       "      <th>acc_rate</th>\n",
       "      <th>avg_daily_trips</th>\n",
       "      <th>created</th>\n",
       "      <th>event_timestamp</th>\n",
       "      <th>trip_completed</th>\n",
       "    </tr>\n",
       "  </thead>\n",
       "  <tbody>\n",
       "    <tr>\n",
       "      <th>0</th>\n",
       "      <td>2021-04-12 07:00:00+00:00</td>\n",
       "      <td>1001</td>\n",
       "      <td>0.175219</td>\n",
       "      <td>0.761434</td>\n",
       "      <td>385</td>\n",
       "      <td>2021-07-28 11:08:04.802</td>\n",
       "      <td>2021-04-16 20:29:28+00:00</td>\n",
       "      <td>1</td>\n",
       "    </tr>\n",
       "    <tr>\n",
       "      <th>1</th>\n",
       "      <td>2021-04-12 07:00:00+00:00</td>\n",
       "      <td>1002</td>\n",
       "      <td>0.312347</td>\n",
       "      <td>0.481786</td>\n",
       "      <td>810</td>\n",
       "      <td>2021-07-28 11:08:04.802</td>\n",
       "      <td>2021-04-17 04:29:28+00:00</td>\n",
       "      <td>0</td>\n",
       "    </tr>\n",
       "    <tr>\n",
       "      <th>2</th>\n",
       "      <td>2021-04-12 07:00:00+00:00</td>\n",
       "      <td>1003</td>\n",
       "      <td>0.736727</td>\n",
       "      <td>0.936667</td>\n",
       "      <td>939</td>\n",
       "      <td>2021-07-28 11:08:04.802</td>\n",
       "      <td>2021-04-17 12:29:28+00:00</td>\n",
       "      <td>0</td>\n",
       "    </tr>\n",
       "    <tr>\n",
       "      <th>3</th>\n",
       "      <td>2021-04-12 07:00:00+00:00</td>\n",
       "      <td>1001</td>\n",
       "      <td>0.175219</td>\n",
       "      <td>0.761434</td>\n",
       "      <td>385</td>\n",
       "      <td>2021-07-28 11:08:04.802</td>\n",
       "      <td>2021-04-17 20:29:28+00:00</td>\n",
       "      <td>1</td>\n",
       "    </tr>\n",
       "    <tr>\n",
       "      <th>4</th>\n",
       "      <td>2021-04-12 07:00:00+00:00</td>\n",
       "      <td>1002</td>\n",
       "      <td>0.312347</td>\n",
       "      <td>0.481786</td>\n",
       "      <td>810</td>\n",
       "      <td>2021-07-28 11:08:04.802</td>\n",
       "      <td>2021-04-18 04:29:28+00:00</td>\n",
       "      <td>0</td>\n",
       "    </tr>\n",
       "    <tr>\n",
       "      <th>5</th>\n",
       "      <td>2021-04-12 07:00:00+00:00</td>\n",
       "      <td>1003</td>\n",
       "      <td>0.736727</td>\n",
       "      <td>0.936667</td>\n",
       "      <td>939</td>\n",
       "      <td>2021-07-28 11:08:04.802</td>\n",
       "      <td>2021-04-18 12:29:28+00:00</td>\n",
       "      <td>0</td>\n",
       "    </tr>\n",
       "    <tr>\n",
       "      <th>6</th>\n",
       "      <td>2021-04-12 07:00:00+00:00</td>\n",
       "      <td>1001</td>\n",
       "      <td>0.175219</td>\n",
       "      <td>0.761434</td>\n",
       "      <td>385</td>\n",
       "      <td>2021-07-28 11:08:04.802</td>\n",
       "      <td>2021-04-18 20:29:28+00:00</td>\n",
       "      <td>1</td>\n",
       "    </tr>\n",
       "    <tr>\n",
       "      <th>7</th>\n",
       "      <td>2021-04-12 07:00:00+00:00</td>\n",
       "      <td>1002</td>\n",
       "      <td>0.312347</td>\n",
       "      <td>0.481786</td>\n",
       "      <td>810</td>\n",
       "      <td>2021-07-28 11:08:04.802</td>\n",
       "      <td>2021-04-19 04:29:28+00:00</td>\n",
       "      <td>0</td>\n",
       "    </tr>\n",
       "    <tr>\n",
       "      <th>8</th>\n",
       "      <td>2021-04-12 07:00:00+00:00</td>\n",
       "      <td>1003</td>\n",
       "      <td>0.736727</td>\n",
       "      <td>0.936667</td>\n",
       "      <td>939</td>\n",
       "      <td>2021-07-28 11:08:04.802</td>\n",
       "      <td>2021-04-19 12:29:28+00:00</td>\n",
       "      <td>0</td>\n",
       "    </tr>\n",
       "    <tr>\n",
       "      <th>9</th>\n",
       "      <td>2021-04-12 07:00:00+00:00</td>\n",
       "      <td>1004</td>\n",
       "      <td>0.094609</td>\n",
       "      <td>0.151163</td>\n",
       "      <td>166</td>\n",
       "      <td>2021-07-28 11:08:04.802</td>\n",
       "      <td>2021-04-19 20:29:28+00:00</td>\n",
       "      <td>1</td>\n",
       "    </tr>\n",
       "  </tbody>\n",
       "</table>\n",
       "</div>"
      ],
      "text/plain": [
       "                   datetime  driver_id  conv_rate  acc_rate  avg_daily_trips  \\\n",
       "0 2021-04-12 07:00:00+00:00       1001   0.175219  0.761434              385   \n",
       "1 2021-04-12 07:00:00+00:00       1002   0.312347  0.481786              810   \n",
       "2 2021-04-12 07:00:00+00:00       1003   0.736727  0.936667              939   \n",
       "3 2021-04-12 07:00:00+00:00       1001   0.175219  0.761434              385   \n",
       "4 2021-04-12 07:00:00+00:00       1002   0.312347  0.481786              810   \n",
       "5 2021-04-12 07:00:00+00:00       1003   0.736727  0.936667              939   \n",
       "6 2021-04-12 07:00:00+00:00       1001   0.175219  0.761434              385   \n",
       "7 2021-04-12 07:00:00+00:00       1002   0.312347  0.481786              810   \n",
       "8 2021-04-12 07:00:00+00:00       1003   0.736727  0.936667              939   \n",
       "9 2021-04-12 07:00:00+00:00       1004   0.094609  0.151163              166   \n",
       "\n",
       "                  created           event_timestamp  trip_completed  \n",
       "0 2021-07-28 11:08:04.802 2021-04-16 20:29:28+00:00               1  \n",
       "1 2021-07-28 11:08:04.802 2021-04-17 04:29:28+00:00               0  \n",
       "2 2021-07-28 11:08:04.802 2021-04-17 12:29:28+00:00               0  \n",
       "3 2021-07-28 11:08:04.802 2021-04-17 20:29:28+00:00               1  \n",
       "4 2021-07-28 11:08:04.802 2021-04-18 04:29:28+00:00               0  \n",
       "5 2021-07-28 11:08:04.802 2021-04-18 12:29:28+00:00               0  \n",
       "6 2021-07-28 11:08:04.802 2021-04-18 20:29:28+00:00               1  \n",
       "7 2021-07-28 11:08:04.802 2021-04-19 04:29:28+00:00               0  \n",
       "8 2021-07-28 11:08:04.802 2021-04-19 12:29:28+00:00               0  \n",
       "9 2021-07-28 11:08:04.802 2021-04-19 20:29:28+00:00               1  "
      ]
     },
     "execution_count": 9,
     "metadata": {},
     "output_type": "execute_result"
    }
   ],
   "source": [
    "groups = df_orig.groupby('driver_id')\n",
    "\n",
    "def proc_row(row):\n",
    "    end_time = row['event_timestamp']\n",
    "    driver_id = row['driver_id']\n",
    "    grp_rows = groups.get_group(driver_id)\n",
    "\n",
    "    # get latest record based on event_timestamp\n",
    "    grp_rows = grp_rows[grp_rows['datetime'] <= end_time]\n",
    "    grp_rows = grp_rows.sort_values('datetime')\n",
    "    grp_rows = grp_rows.iloc[-1]\n",
    "    \n",
    "    # add columns\n",
    "    grp_rows['event_timestamp'] = end_time\n",
    "    grp_rows['trip_completed'] = row['trip_completed']\n",
    "\n",
    "    # to Series\n",
    "    return grp_rows.squeeze(axis=0)\n",
    "\n",
    "data_df = label_orig.apply(proc_row, axis=1)\n",
    "data_df"
   ]
  },
  {
   "cell_type": "code",
   "execution_count": 10,
   "id": "18d465f2-30f2-4438-a485-c69f332a2404",
   "metadata": {},
   "outputs": [
    {
     "data": {
      "text/html": [
       "<div>\n",
       "<style scoped>\n",
       "    .dataframe tbody tr th:only-of-type {\n",
       "        vertical-align: middle;\n",
       "    }\n",
       "\n",
       "    .dataframe tbody tr th {\n",
       "        vertical-align: top;\n",
       "    }\n",
       "\n",
       "    .dataframe thead th {\n",
       "        text-align: right;\n",
       "    }\n",
       "</style>\n",
       "<table border=\"1\" class=\"dataframe\">\n",
       "  <thead>\n",
       "    <tr style=\"text-align: right;\">\n",
       "      <th></th>\n",
       "      <th>conv_rate</th>\n",
       "      <th>acc_rate</th>\n",
       "      <th>avg_daily_trips</th>\n",
       "      <th>trip_completed</th>\n",
       "    </tr>\n",
       "  </thead>\n",
       "  <tbody>\n",
       "    <tr>\n",
       "      <th>0</th>\n",
       "      <td>0.175219</td>\n",
       "      <td>0.761434</td>\n",
       "      <td>385</td>\n",
       "      <td>1</td>\n",
       "    </tr>\n",
       "    <tr>\n",
       "      <th>1</th>\n",
       "      <td>0.312347</td>\n",
       "      <td>0.481786</td>\n",
       "      <td>810</td>\n",
       "      <td>0</td>\n",
       "    </tr>\n",
       "    <tr>\n",
       "      <th>2</th>\n",
       "      <td>0.736727</td>\n",
       "      <td>0.936667</td>\n",
       "      <td>939</td>\n",
       "      <td>0</td>\n",
       "    </tr>\n",
       "    <tr>\n",
       "      <th>3</th>\n",
       "      <td>0.175219</td>\n",
       "      <td>0.761434</td>\n",
       "      <td>385</td>\n",
       "      <td>1</td>\n",
       "    </tr>\n",
       "    <tr>\n",
       "      <th>4</th>\n",
       "      <td>0.312347</td>\n",
       "      <td>0.481786</td>\n",
       "      <td>810</td>\n",
       "      <td>0</td>\n",
       "    </tr>\n",
       "    <tr>\n",
       "      <th>5</th>\n",
       "      <td>0.736727</td>\n",
       "      <td>0.936667</td>\n",
       "      <td>939</td>\n",
       "      <td>0</td>\n",
       "    </tr>\n",
       "    <tr>\n",
       "      <th>6</th>\n",
       "      <td>0.175219</td>\n",
       "      <td>0.761434</td>\n",
       "      <td>385</td>\n",
       "      <td>1</td>\n",
       "    </tr>\n",
       "    <tr>\n",
       "      <th>7</th>\n",
       "      <td>0.312347</td>\n",
       "      <td>0.481786</td>\n",
       "      <td>810</td>\n",
       "      <td>0</td>\n",
       "    </tr>\n",
       "    <tr>\n",
       "      <th>8</th>\n",
       "      <td>0.736727</td>\n",
       "      <td>0.936667</td>\n",
       "      <td>939</td>\n",
       "      <td>0</td>\n",
       "    </tr>\n",
       "    <tr>\n",
       "      <th>9</th>\n",
       "      <td>0.094609</td>\n",
       "      <td>0.151163</td>\n",
       "      <td>166</td>\n",
       "      <td>1</td>\n",
       "    </tr>\n",
       "  </tbody>\n",
       "</table>\n",
       "</div>"
      ],
      "text/plain": [
       "   conv_rate  acc_rate  avg_daily_trips  trip_completed\n",
       "0   0.175219  0.761434              385               1\n",
       "1   0.312347  0.481786              810               0\n",
       "2   0.736727  0.936667              939               0\n",
       "3   0.175219  0.761434              385               1\n",
       "4   0.312347  0.481786              810               0\n",
       "5   0.736727  0.936667              939               0\n",
       "6   0.175219  0.761434              385               1\n",
       "7   0.312347  0.481786              810               0\n",
       "8   0.736727  0.936667              939               0\n",
       "9   0.094609  0.151163              166               1"
      ]
     },
     "execution_count": 10,
     "metadata": {},
     "output_type": "execute_result"
    }
   ],
   "source": [
    "data_df = data_df[data_df.columns. \\\n",
    "    drop(\"datetime\"). \\\n",
    "    drop(\"driver_id\"). \\\n",
    "    drop(\"created\"). \\\n",
    "    drop(\"event_timestamp\")]\n",
    "data_df"
   ]
  },
  {
   "cell_type": "markdown",
   "id": "b9e24fa7-56d4-4d13-a052-e6a79849e8ce",
   "metadata": {},
   "source": [
    "### Split data"
   ]
  },
  {
   "cell_type": "code",
   "execution_count": 11,
   "id": "bfcd0158-b35c-489f-951d-0106c1956d54",
   "metadata": {},
   "outputs": [],
   "source": [
    "from sklearn.linear_model import ElasticNet\n",
    "from sklearn.model_selection import train_test_split\n",
    "from sklearn.metrics import mean_squared_error, mean_absolute_error, r2_score"
   ]
  },
  {
   "cell_type": "code",
   "execution_count": 12,
   "metadata": {},
   "outputs": [],
   "source": [
    "def eval_metrics(actual, pred):\n",
    "    rmse = np.sqrt(mean_squared_error(actual, pred))\n",
    "    mae = mean_absolute_error(actual, pred)\n",
    "    r2 = r2_score(actual, pred)\n",
    "    return rmse, mae, r2"
   ]
  },
  {
   "cell_type": "code",
   "execution_count": 13,
   "id": "e86c2826-5151-4da3-8641-b9d471a2ac28",
   "metadata": {},
   "outputs": [
    {
     "data": {
      "text/plain": [
       "((8, 3), (8, 1), (2, 3), (2, 1))"
      ]
     },
     "execution_count": 13,
     "metadata": {},
     "output_type": "execute_result"
    }
   ],
   "source": [
    "selected_ft = [\"conv_rate\", \"acc_rate\", \"avg_daily_trips\"]\n",
    "TARGET_COL = \"trip_completed\"\n",
    "TEST_SIZE = 0.2\n",
    "\n",
    "train, test = train_test_split(data_df, test_size=TEST_SIZE, random_state=random_seed)\n",
    "train_x = train.drop([TARGET_COL], axis=1)[selected_ft]\n",
    "test_x = test.drop([TARGET_COL], axis=1)[selected_ft]\n",
    "train_y = train[[TARGET_COL]]\n",
    "test_y = test[[TARGET_COL]]\n",
    "train_x.shape, train_y.shape, test_x.shape, test_y.shape"
   ]
  },
  {
   "cell_type": "markdown",
   "id": "f098ec39",
   "metadata": {},
   "source": [
    "### Training and evaluation"
   ]
  },
  {
   "cell_type": "code",
   "execution_count": 14,
   "id": "ae4abca5-4985-49cd-916b-fb6efae63d55",
   "metadata": {},
   "outputs": [
    {
     "name": "stdout",
     "output_type": "stream",
     "text": [
      "Elasticnet model (alpha=0.500000, l1_ratio=0.100000):\n",
      "  RMSE: 0.11625695183915705\n",
      "  MAE: 0.10880469049979313\n",
      "  R2: 0.0\n"
     ]
    }
   ],
   "source": [
    "ALPHA = 0.5\n",
    "L1_RATIO = 0.1\n",
    "\n",
    "model = ElasticNet(alpha=ALPHA, l1_ratio=L1_RATIO, random_state=random_seed)\n",
    "model.fit(train_x, train_y)\n",
    "\n",
    "predicted_qualities = model.predict(test_x)\n",
    "(rmse, mae, r2) = eval_metrics(test_y, predicted_qualities)\n",
    "\n",
    "print(\"Elasticnet model (alpha=%f, l1_ratio=%f):\" % (ALPHA, L1_RATIO))\n",
    "print(\"  RMSE: %s\" % rmse)\n",
    "print(\"  MAE: %s\" % mae)\n",
    "print(\"  R2: %s\" % r2)"
   ]
  },
  {
   "cell_type": "markdown",
   "id": "7faab224-e2f0-4505-975f-e23bbe9a70e9",
   "metadata": {},
   "source": [
    "### Export, import and inference"
   ]
  },
  {
   "cell_type": "code",
   "execution_count": 15,
   "id": "234e7bfd-0c84-4160-ad4c-69272021664e",
   "metadata": {},
   "outputs": [
    {
     "data": {
      "text/plain": [
       "['model/driver_model.bin']"
      ]
     },
     "execution_count": 15,
     "metadata": {},
     "output_type": "execute_result"
    }
   ],
   "source": [
    "import joblib\n",
    "MODEL_DIR = Path(\"./model\")\n",
    "MODEL_DIR.mkdir(parents=True, exist_ok=True)\n",
    "model_path = MODEL_DIR / \"driver_model.bin\"\n",
    "joblib.dump(model, model_path)"
   ]
  },
  {
   "cell_type": "code",
   "execution_count": 16,
   "id": "72c934ab",
   "metadata": {},
   "outputs": [
    {
     "data": {
      "text/html": [
       "<style>#sk-container-id-1 {color: black;background-color: white;}#sk-container-id-1 pre{padding: 0;}#sk-container-id-1 div.sk-toggleable {background-color: white;}#sk-container-id-1 label.sk-toggleable__label {cursor: pointer;display: block;width: 100%;margin-bottom: 0;padding: 0.3em;box-sizing: border-box;text-align: center;}#sk-container-id-1 label.sk-toggleable__label-arrow:before {content: \"▸\";float: left;margin-right: 0.25em;color: #696969;}#sk-container-id-1 label.sk-toggleable__label-arrow:hover:before {color: black;}#sk-container-id-1 div.sk-estimator:hover label.sk-toggleable__label-arrow:before {color: black;}#sk-container-id-1 div.sk-toggleable__content {max-height: 0;max-width: 0;overflow: hidden;text-align: left;background-color: #f0f8ff;}#sk-container-id-1 div.sk-toggleable__content pre {margin: 0.2em;color: black;border-radius: 0.25em;background-color: #f0f8ff;}#sk-container-id-1 input.sk-toggleable__control:checked~div.sk-toggleable__content {max-height: 200px;max-width: 100%;overflow: auto;}#sk-container-id-1 input.sk-toggleable__control:checked~label.sk-toggleable__label-arrow:before {content: \"▾\";}#sk-container-id-1 div.sk-estimator input.sk-toggleable__control:checked~label.sk-toggleable__label {background-color: #d4ebff;}#sk-container-id-1 div.sk-label input.sk-toggleable__control:checked~label.sk-toggleable__label {background-color: #d4ebff;}#sk-container-id-1 input.sk-hidden--visually {border: 0;clip: rect(1px 1px 1px 1px);clip: rect(1px, 1px, 1px, 1px);height: 1px;margin: -1px;overflow: hidden;padding: 0;position: absolute;width: 1px;}#sk-container-id-1 div.sk-estimator {font-family: monospace;background-color: #f0f8ff;border: 1px dotted black;border-radius: 0.25em;box-sizing: border-box;margin-bottom: 0.5em;}#sk-container-id-1 div.sk-estimator:hover {background-color: #d4ebff;}#sk-container-id-1 div.sk-parallel-item::after {content: \"\";width: 100%;border-bottom: 1px solid gray;flex-grow: 1;}#sk-container-id-1 div.sk-label:hover label.sk-toggleable__label {background-color: #d4ebff;}#sk-container-id-1 div.sk-serial::before {content: \"\";position: absolute;border-left: 1px solid gray;box-sizing: border-box;top: 0;bottom: 0;left: 50%;z-index: 0;}#sk-container-id-1 div.sk-serial {display: flex;flex-direction: column;align-items: center;background-color: white;padding-right: 0.2em;padding-left: 0.2em;position: relative;}#sk-container-id-1 div.sk-item {position: relative;z-index: 1;}#sk-container-id-1 div.sk-parallel {display: flex;align-items: stretch;justify-content: center;background-color: white;position: relative;}#sk-container-id-1 div.sk-item::before, #sk-container-id-1 div.sk-parallel-item::before {content: \"\";position: absolute;border-left: 1px solid gray;box-sizing: border-box;top: 0;bottom: 0;left: 50%;z-index: -1;}#sk-container-id-1 div.sk-parallel-item {display: flex;flex-direction: column;z-index: 1;position: relative;background-color: white;}#sk-container-id-1 div.sk-parallel-item:first-child::after {align-self: flex-end;width: 50%;}#sk-container-id-1 div.sk-parallel-item:last-child::after {align-self: flex-start;width: 50%;}#sk-container-id-1 div.sk-parallel-item:only-child::after {width: 0;}#sk-container-id-1 div.sk-dashed-wrapped {border: 1px dashed gray;margin: 0 0.4em 0.5em 0.4em;box-sizing: border-box;padding-bottom: 0.4em;background-color: white;}#sk-container-id-1 div.sk-label label {font-family: monospace;font-weight: bold;display: inline-block;line-height: 1.2em;}#sk-container-id-1 div.sk-label-container {text-align: center;}#sk-container-id-1 div.sk-container {/* jupyter's `normalize.less` sets `[hidden] { display: none; }` but bootstrap.min.css set `[hidden] { display: none !important; }` so we also need the `!important` here to be able to override the default hidden behavior on the sphinx rendered scikit-learn.org. See: https://github.com/scikit-learn/scikit-learn/issues/21755 */display: inline-block !important;position: relative;}#sk-container-id-1 div.sk-text-repr-fallback {display: none;}</style><div id=\"sk-container-id-1\" class=\"sk-top-container\"><div class=\"sk-text-repr-fallback\"><pre>ElasticNet(alpha=0.5, l1_ratio=0.1, random_state=17)</pre><b>In a Jupyter environment, please rerun this cell to show the HTML representation or trust the notebook. <br />On GitHub, the HTML representation is unable to render, please try loading this page with nbviewer.org.</b></div><div class=\"sk-container\" hidden><div class=\"sk-item\"><div class=\"sk-estimator sk-toggleable\"><input class=\"sk-toggleable__control sk-hidden--visually\" id=\"sk-estimator-id-1\" type=\"checkbox\" checked><label for=\"sk-estimator-id-1\" class=\"sk-toggleable__label sk-toggleable__label-arrow\">ElasticNet</label><div class=\"sk-toggleable__content\"><pre>ElasticNet(alpha=0.5, l1_ratio=0.1, random_state=17)</pre></div></div></div></div></div>"
      ],
      "text/plain": [
       "ElasticNet(alpha=0.5, l1_ratio=0.1, random_state=17)"
      ]
     },
     "execution_count": 16,
     "metadata": {},
     "output_type": "execute_result"
    }
   ],
   "source": [
    "loaded_model = joblib.load(model_path)\n",
    "loaded_model"
   ]
  },
  {
   "cell_type": "code",
   "execution_count": 17,
   "id": "f369c951",
   "metadata": {},
   "outputs": [
    {
     "data": {
      "text/plain": [
       "array([ 0.14975854, -0.06785084])"
      ]
     },
     "execution_count": 17,
     "metadata": {},
     "output_type": "execute_result"
    }
   ],
   "source": [
    "predictions = loaded_model.predict(test_x)\n",
    "predictions"
   ]
  },
  {
   "cell_type": "code",
   "execution_count": null,
   "id": "98e1073a",
   "metadata": {},
   "outputs": [],
   "source": []
  }
 ],
 "metadata": {
  "kernelspec": {
   "display_name": "Python 3.9.13 ('mlopsvn-training')",
   "language": "python",
   "name": "python3"
  },
  "language_info": {
   "codemirror_mode": {
    "name": "ipython",
    "version": 3
   },
   "file_extension": ".py",
   "mimetype": "text/x-python",
   "name": "python",
   "nbconvert_exporter": "python",
   "pygments_lexer": "ipython3",
   "version": "3.9.13"
  },
  "vscode": {
   "interpreter": {
    "hash": "c7524311667e2929f44f6dc9d43abac6ab6cd498d683860edbda9998f185c70d"
   }
  }
 },
 "nbformat": 4,
 "nbformat_minor": 5
}

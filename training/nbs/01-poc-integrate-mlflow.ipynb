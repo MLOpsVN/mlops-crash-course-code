{
 "cells": [
  {
   "cell_type": "code",
   "execution_count": 1,
   "id": "37ce069d-6d13-4e6a-a36f-fa5bb7c33696",
   "metadata": {},
   "outputs": [
    {
     "name": "stdout",
     "output_type": "stream",
     "text": [
      "/Users/tung.dao/tung/mlopsvn/code/mlops-crash-course-code/training\n"
     ]
    }
   ],
   "source": [
    "import os\n",
    "os.chdir(\"..\")\n",
    "!pwd"
   ]
  },
  {
   "cell_type": "code",
   "execution_count": 2,
   "id": "fafa4c79-80e0-4af1-a4fc-39deab786ba5",
   "metadata": {},
   "outputs": [],
   "source": [
    "import pandas as pd\n",
    "import fastparquet\n",
    "from pathlib import Path\n",
    "import numpy as np\n",
    "\n",
    "random_seed = 17\n",
    "np.random.seed(random_seed)"
   ]
  },
  {
   "cell_type": "markdown",
   "id": "092197b6-1dc5-4154-98e7-6ad74c75b88e",
   "metadata": {},
   "source": [
    "## Load data"
   ]
  },
  {
   "cell_type": "code",
   "execution_count": 3,
   "id": "60f2c94c-0547-420f-862a-f1e067b9ca64",
   "metadata": {},
   "outputs": [],
   "source": [
    "DATA_DIR = Path(\"./data\")\n",
    "TMP_DIR = Path(\"./tmp\")\n",
    "DATA_PATH = DATA_DIR / \"driver_stats.parquet\"\n",
    "LABEL_PATH = DATA_DIR / \"driver_orders.csv\"\n",
    "if not DATA_PATH.is_file():\n",
    "    raise Exception(\"DATA_PATH not found\")\n",
    "if not LABEL_PATH.is_file():\n",
    "    raise Exception(\"LABEL_PATH not found\")"
   ]
  },
  {
   "cell_type": "code",
   "execution_count": 4,
   "id": "66d91fde-2455-4530-b114-3692fcd1231a",
   "metadata": {},
   "outputs": [
    {
     "data": {
      "text/html": [
       "<div>\n",
       "<style scoped>\n",
       "    .dataframe tbody tr th:only-of-type {\n",
       "        vertical-align: middle;\n",
       "    }\n",
       "\n",
       "    .dataframe tbody tr th {\n",
       "        vertical-align: top;\n",
       "    }\n",
       "\n",
       "    .dataframe thead th {\n",
       "        text-align: right;\n",
       "    }\n",
       "</style>\n",
       "<table border=\"1\" class=\"dataframe\">\n",
       "  <thead>\n",
       "    <tr style=\"text-align: right;\">\n",
       "      <th></th>\n",
       "      <th>datetime</th>\n",
       "      <th>driver_id</th>\n",
       "      <th>conv_rate</th>\n",
       "      <th>acc_rate</th>\n",
       "      <th>avg_daily_trips</th>\n",
       "      <th>created</th>\n",
       "    </tr>\n",
       "  </thead>\n",
       "  <tbody>\n",
       "    <tr>\n",
       "      <th>0</th>\n",
       "      <td>2021-07-13 11:00:00+00:00</td>\n",
       "      <td>1005</td>\n",
       "      <td>0.373837</td>\n",
       "      <td>0.154890</td>\n",
       "      <td>498</td>\n",
       "      <td>2021-07-28 11:08:04.802</td>\n",
       "    </tr>\n",
       "    <tr>\n",
       "      <th>1</th>\n",
       "      <td>2021-07-13 12:00:00+00:00</td>\n",
       "      <td>1005</td>\n",
       "      <td>0.571627</td>\n",
       "      <td>0.643958</td>\n",
       "      <td>656</td>\n",
       "      <td>2021-07-28 11:08:04.802</td>\n",
       "    </tr>\n",
       "    <tr>\n",
       "      <th>2</th>\n",
       "      <td>2021-07-13 13:00:00+00:00</td>\n",
       "      <td>1005</td>\n",
       "      <td>0.399909</td>\n",
       "      <td>0.993888</td>\n",
       "      <td>722</td>\n",
       "      <td>2021-07-28 11:08:04.802</td>\n",
       "    </tr>\n",
       "    <tr>\n",
       "      <th>3</th>\n",
       "      <td>2021-07-13 14:00:00+00:00</td>\n",
       "      <td>1005</td>\n",
       "      <td>0.967468</td>\n",
       "      <td>0.788458</td>\n",
       "      <td>424</td>\n",
       "      <td>2021-07-28 11:08:04.802</td>\n",
       "    </tr>\n",
       "    <tr>\n",
       "      <th>4</th>\n",
       "      <td>2021-07-13 15:00:00+00:00</td>\n",
       "      <td>1005</td>\n",
       "      <td>0.024679</td>\n",
       "      <td>0.956064</td>\n",
       "      <td>569</td>\n",
       "      <td>2021-07-28 11:08:04.802</td>\n",
       "    </tr>\n",
       "    <tr>\n",
       "      <th>...</th>\n",
       "      <td>...</td>\n",
       "      <td>...</td>\n",
       "      <td>...</td>\n",
       "      <td>...</td>\n",
       "      <td>...</td>\n",
       "      <td>...</td>\n",
       "    </tr>\n",
       "    <tr>\n",
       "      <th>1802</th>\n",
       "      <td>2021-07-28 09:00:00+00:00</td>\n",
       "      <td>1001</td>\n",
       "      <td>0.089418</td>\n",
       "      <td>0.311234</td>\n",
       "      <td>485</td>\n",
       "      <td>2021-07-28 11:08:04.802</td>\n",
       "    </tr>\n",
       "    <tr>\n",
       "      <th>1803</th>\n",
       "      <td>2021-07-28 10:00:00+00:00</td>\n",
       "      <td>1001</td>\n",
       "      <td>0.222534</td>\n",
       "      <td>0.927691</td>\n",
       "      <td>114</td>\n",
       "      <td>2021-07-28 11:08:04.802</td>\n",
       "    </tr>\n",
       "    <tr>\n",
       "      <th>1804</th>\n",
       "      <td>2021-04-12 07:00:00+00:00</td>\n",
       "      <td>1001</td>\n",
       "      <td>0.175219</td>\n",
       "      <td>0.761434</td>\n",
       "      <td>385</td>\n",
       "      <td>2021-07-28 11:08:04.802</td>\n",
       "    </tr>\n",
       "    <tr>\n",
       "      <th>902</th>\n",
       "      <td>2021-07-20 23:00:00+00:00</td>\n",
       "      <td>1003</td>\n",
       "      <td>0.025968</td>\n",
       "      <td>0.109748</td>\n",
       "      <td>55</td>\n",
       "      <td>2021-07-28 11:08:04.802</td>\n",
       "    </tr>\n",
       "    <tr>\n",
       "      <th>902</th>\n",
       "      <td>2021-07-20 23:00:00+00:00</td>\n",
       "      <td>1003</td>\n",
       "      <td>0.025968</td>\n",
       "      <td>0.109748</td>\n",
       "      <td>55</td>\n",
       "      <td>2021-07-28 11:08:04.802</td>\n",
       "    </tr>\n",
       "  </tbody>\n",
       "</table>\n",
       "<p>1807 rows × 6 columns</p>\n",
       "</div>"
      ],
      "text/plain": [
       "                      datetime  driver_id  conv_rate  acc_rate  \\\n",
       "0    2021-07-13 11:00:00+00:00       1005   0.373837  0.154890   \n",
       "1    2021-07-13 12:00:00+00:00       1005   0.571627  0.643958   \n",
       "2    2021-07-13 13:00:00+00:00       1005   0.399909  0.993888   \n",
       "3    2021-07-13 14:00:00+00:00       1005   0.967468  0.788458   \n",
       "4    2021-07-13 15:00:00+00:00       1005   0.024679  0.956064   \n",
       "...                        ...        ...        ...       ...   \n",
       "1802 2021-07-28 09:00:00+00:00       1001   0.089418  0.311234   \n",
       "1803 2021-07-28 10:00:00+00:00       1001   0.222534  0.927691   \n",
       "1804 2021-04-12 07:00:00+00:00       1001   0.175219  0.761434   \n",
       "902  2021-07-20 23:00:00+00:00       1003   0.025968  0.109748   \n",
       "902  2021-07-20 23:00:00+00:00       1003   0.025968  0.109748   \n",
       "\n",
       "      avg_daily_trips                 created  \n",
       "0                 498 2021-07-28 11:08:04.802  \n",
       "1                 656 2021-07-28 11:08:04.802  \n",
       "2                 722 2021-07-28 11:08:04.802  \n",
       "3                 424 2021-07-28 11:08:04.802  \n",
       "4                 569 2021-07-28 11:08:04.802  \n",
       "...               ...                     ...  \n",
       "1802              485 2021-07-28 11:08:04.802  \n",
       "1803              114 2021-07-28 11:08:04.802  \n",
       "1804              385 2021-07-28 11:08:04.802  \n",
       "902                55 2021-07-28 11:08:04.802  \n",
       "902                55 2021-07-28 11:08:04.802  \n",
       "\n",
       "[1807 rows x 6 columns]"
      ]
     },
     "execution_count": 4,
     "metadata": {},
     "output_type": "execute_result"
    }
   ],
   "source": [
    "df_orig = pd.read_parquet(DATA_PATH, engine='fastparquet')\n",
    "df_orig"
   ]
  },
  {
   "cell_type": "code",
   "execution_count": 5,
   "id": "9d6d3cf6-2986-4ade-a150-48fde08e0dda",
   "metadata": {},
   "outputs": [
    {
     "data": {
      "text/html": [
       "<div>\n",
       "<style scoped>\n",
       "    .dataframe tbody tr th:only-of-type {\n",
       "        vertical-align: middle;\n",
       "    }\n",
       "\n",
       "    .dataframe tbody tr th {\n",
       "        vertical-align: top;\n",
       "    }\n",
       "\n",
       "    .dataframe thead th {\n",
       "        text-align: right;\n",
       "    }\n",
       "</style>\n",
       "<table border=\"1\" class=\"dataframe\">\n",
       "  <thead>\n",
       "    <tr style=\"text-align: right;\">\n",
       "      <th></th>\n",
       "      <th>event_timestamp</th>\n",
       "      <th>driver_id</th>\n",
       "      <th>trip_completed</th>\n",
       "    </tr>\n",
       "  </thead>\n",
       "  <tbody>\n",
       "    <tr>\n",
       "      <th>0</th>\n",
       "      <td>2021-04-16 20:29:28+00:00</td>\n",
       "      <td>1001</td>\n",
       "      <td>1</td>\n",
       "    </tr>\n",
       "    <tr>\n",
       "      <th>1</th>\n",
       "      <td>2021-04-17 04:29:28+00:00</td>\n",
       "      <td>1002</td>\n",
       "      <td>0</td>\n",
       "    </tr>\n",
       "    <tr>\n",
       "      <th>2</th>\n",
       "      <td>2021-04-17 12:29:28+00:00</td>\n",
       "      <td>1003</td>\n",
       "      <td>0</td>\n",
       "    </tr>\n",
       "    <tr>\n",
       "      <th>3</th>\n",
       "      <td>2021-04-17 20:29:28+00:00</td>\n",
       "      <td>1001</td>\n",
       "      <td>1</td>\n",
       "    </tr>\n",
       "    <tr>\n",
       "      <th>4</th>\n",
       "      <td>2021-04-18 04:29:28+00:00</td>\n",
       "      <td>1002</td>\n",
       "      <td>0</td>\n",
       "    </tr>\n",
       "    <tr>\n",
       "      <th>5</th>\n",
       "      <td>2021-04-18 12:29:28+00:00</td>\n",
       "      <td>1003</td>\n",
       "      <td>0</td>\n",
       "    </tr>\n",
       "    <tr>\n",
       "      <th>6</th>\n",
       "      <td>2021-04-18 20:29:28+00:00</td>\n",
       "      <td>1001</td>\n",
       "      <td>1</td>\n",
       "    </tr>\n",
       "    <tr>\n",
       "      <th>7</th>\n",
       "      <td>2021-04-19 04:29:28+00:00</td>\n",
       "      <td>1002</td>\n",
       "      <td>0</td>\n",
       "    </tr>\n",
       "    <tr>\n",
       "      <th>8</th>\n",
       "      <td>2021-04-19 12:29:28+00:00</td>\n",
       "      <td>1003</td>\n",
       "      <td>0</td>\n",
       "    </tr>\n",
       "    <tr>\n",
       "      <th>9</th>\n",
       "      <td>2021-04-19 20:29:28+00:00</td>\n",
       "      <td>1004</td>\n",
       "      <td>1</td>\n",
       "    </tr>\n",
       "  </tbody>\n",
       "</table>\n",
       "</div>"
      ],
      "text/plain": [
       "             event_timestamp  driver_id  trip_completed\n",
       "0  2021-04-16 20:29:28+00:00       1001               1\n",
       "1  2021-04-17 04:29:28+00:00       1002               0\n",
       "2  2021-04-17 12:29:28+00:00       1003               0\n",
       "3  2021-04-17 20:29:28+00:00       1001               1\n",
       "4  2021-04-18 04:29:28+00:00       1002               0\n",
       "5  2021-04-18 12:29:28+00:00       1003               0\n",
       "6  2021-04-18 20:29:28+00:00       1001               1\n",
       "7  2021-04-19 04:29:28+00:00       1002               0\n",
       "8  2021-04-19 12:29:28+00:00       1003               0\n",
       "9  2021-04-19 20:29:28+00:00       1004               1"
      ]
     },
     "execution_count": 5,
     "metadata": {},
     "output_type": "execute_result"
    }
   ],
   "source": [
    "label_orig = pd.read_csv(LABEL_PATH, sep=\"\\t\")\n",
    "label_orig"
   ]
  },
  {
   "cell_type": "markdown",
   "id": "7c82ecb5-848a-44d8-92ff-89bd5da6933e",
   "metadata": {},
   "source": [
    "### Format timestamp"
   ]
  },
  {
   "cell_type": "code",
   "execution_count": 6,
   "id": "59756fe5-cd66-4a11-b0d1-28c3a44b3309",
   "metadata": {},
   "outputs": [
    {
     "data": {
      "text/html": [
       "<div>\n",
       "<style scoped>\n",
       "    .dataframe tbody tr th:only-of-type {\n",
       "        vertical-align: middle;\n",
       "    }\n",
       "\n",
       "    .dataframe tbody tr th {\n",
       "        vertical-align: top;\n",
       "    }\n",
       "\n",
       "    .dataframe thead th {\n",
       "        text-align: right;\n",
       "    }\n",
       "</style>\n",
       "<table border=\"1\" class=\"dataframe\">\n",
       "  <thead>\n",
       "    <tr style=\"text-align: right;\">\n",
       "      <th></th>\n",
       "      <th>event_timestamp</th>\n",
       "      <th>driver_id</th>\n",
       "      <th>trip_completed</th>\n",
       "    </tr>\n",
       "  </thead>\n",
       "  <tbody>\n",
       "    <tr>\n",
       "      <th>0</th>\n",
       "      <td>2021-04-16 20:29:28+00:00</td>\n",
       "      <td>1001</td>\n",
       "      <td>1</td>\n",
       "    </tr>\n",
       "    <tr>\n",
       "      <th>1</th>\n",
       "      <td>2021-04-17 04:29:28+00:00</td>\n",
       "      <td>1002</td>\n",
       "      <td>0</td>\n",
       "    </tr>\n",
       "    <tr>\n",
       "      <th>2</th>\n",
       "      <td>2021-04-17 12:29:28+00:00</td>\n",
       "      <td>1003</td>\n",
       "      <td>0</td>\n",
       "    </tr>\n",
       "    <tr>\n",
       "      <th>3</th>\n",
       "      <td>2021-04-17 20:29:28+00:00</td>\n",
       "      <td>1001</td>\n",
       "      <td>1</td>\n",
       "    </tr>\n",
       "    <tr>\n",
       "      <th>4</th>\n",
       "      <td>2021-04-18 04:29:28+00:00</td>\n",
       "      <td>1002</td>\n",
       "      <td>0</td>\n",
       "    </tr>\n",
       "    <tr>\n",
       "      <th>5</th>\n",
       "      <td>2021-04-18 12:29:28+00:00</td>\n",
       "      <td>1003</td>\n",
       "      <td>0</td>\n",
       "    </tr>\n",
       "    <tr>\n",
       "      <th>6</th>\n",
       "      <td>2021-04-18 20:29:28+00:00</td>\n",
       "      <td>1001</td>\n",
       "      <td>1</td>\n",
       "    </tr>\n",
       "    <tr>\n",
       "      <th>7</th>\n",
       "      <td>2021-04-19 04:29:28+00:00</td>\n",
       "      <td>1002</td>\n",
       "      <td>0</td>\n",
       "    </tr>\n",
       "    <tr>\n",
       "      <th>8</th>\n",
       "      <td>2021-04-19 12:29:28+00:00</td>\n",
       "      <td>1003</td>\n",
       "      <td>0</td>\n",
       "    </tr>\n",
       "    <tr>\n",
       "      <th>9</th>\n",
       "      <td>2021-04-19 20:29:28+00:00</td>\n",
       "      <td>1004</td>\n",
       "      <td>1</td>\n",
       "    </tr>\n",
       "  </tbody>\n",
       "</table>\n",
       "</div>"
      ],
      "text/plain": [
       "            event_timestamp  driver_id  trip_completed\n",
       "0 2021-04-16 20:29:28+00:00       1001               1\n",
       "1 2021-04-17 04:29:28+00:00       1002               0\n",
       "2 2021-04-17 12:29:28+00:00       1003               0\n",
       "3 2021-04-17 20:29:28+00:00       1001               1\n",
       "4 2021-04-18 04:29:28+00:00       1002               0\n",
       "5 2021-04-18 12:29:28+00:00       1003               0\n",
       "6 2021-04-18 20:29:28+00:00       1001               1\n",
       "7 2021-04-19 04:29:28+00:00       1002               0\n",
       "8 2021-04-19 12:29:28+00:00       1003               0\n",
       "9 2021-04-19 20:29:28+00:00       1004               1"
      ]
     },
     "execution_count": 6,
     "metadata": {},
     "output_type": "execute_result"
    }
   ],
   "source": [
    "label_orig[\"event_timestamp\"] = pd.to_datetime(label_orig[\"event_timestamp\"])\n",
    "label_orig"
   ]
  },
  {
   "cell_type": "code",
   "execution_count": 7,
   "id": "0d778132-6e38-4f61-b810-2c08eff508b6",
   "metadata": {},
   "outputs": [],
   "source": [
    "target_col = \"trip_completed\""
   ]
  },
  {
   "cell_type": "markdown",
   "id": "5197f32f-e614-4c61-ac0a-676772577da6",
   "metadata": {},
   "source": [
    "## Explore data"
   ]
  },
  {
   "cell_type": "code",
   "execution_count": 8,
   "id": "b2a01fb6-a721-43be-b441-c788432a2b42",
   "metadata": {},
   "outputs": [
    {
     "name": "stdout",
     "output_type": "stream",
     "text": [
      "<class 'pandas.core.frame.DataFrame'>\n",
      "Int64Index: 1807 entries, 0 to 902\n",
      "Data columns (total 6 columns):\n",
      " #   Column           Non-Null Count  Dtype              \n",
      "---  ------           --------------  -----              \n",
      " 0   datetime         1807 non-null   datetime64[ns, UTC]\n",
      " 1   driver_id        1807 non-null   int64              \n",
      " 2   conv_rate        1807 non-null   float64            \n",
      " 3   acc_rate         1807 non-null   float64            \n",
      " 4   avg_daily_trips  1807 non-null   int64              \n",
      " 5   created          1807 non-null   datetime64[ns]     \n",
      "dtypes: datetime64[ns, UTC](1), datetime64[ns](1), float64(2), int64(2)\n",
      "memory usage: 98.8 KB\n"
     ]
    }
   ],
   "source": [
    "df_orig.info()"
   ]
  },
  {
   "cell_type": "code",
   "execution_count": 9,
   "id": "30e871f4-e605-4858-a0c5-d4e9464f9f53",
   "metadata": {},
   "outputs": [
    {
     "name": "stdout",
     "output_type": "stream",
     "text": [
      "<class 'pandas.core.frame.DataFrame'>\n",
      "RangeIndex: 10 entries, 0 to 9\n",
      "Data columns (total 3 columns):\n",
      " #   Column           Non-Null Count  Dtype              \n",
      "---  ------           --------------  -----              \n",
      " 0   event_timestamp  10 non-null     datetime64[ns, UTC]\n",
      " 1   driver_id        10 non-null     int64              \n",
      " 2   trip_completed   10 non-null     int64              \n",
      "dtypes: datetime64[ns, UTC](1), int64(2)\n",
      "memory usage: 368.0 bytes\n"
     ]
    }
   ],
   "source": [
    "label_orig.info()"
   ]
  },
  {
   "cell_type": "markdown",
   "id": "33625530-dc96-4b03-9764-d40a205c3034",
   "metadata": {},
   "source": [
    "## Training"
   ]
  },
  {
   "cell_type": "markdown",
   "id": "b9e24fa7-56d4-4d13-a052-e6a79849e8ce",
   "metadata": {},
   "source": [
    "### Split data"
   ]
  },
  {
   "cell_type": "code",
   "execution_count": 10,
   "id": "bfcd0158-b35c-489f-951d-0106c1956d54",
   "metadata": {},
   "outputs": [],
   "source": [
    "from sklearn.linear_model import ElasticNet\n",
    "from sklearn.model_selection import train_test_split\n",
    "from sklearn.metrics import mean_squared_error, mean_absolute_error, r2_score"
   ]
  },
  {
   "cell_type": "code",
   "execution_count": 11,
   "metadata": {},
   "outputs": [],
   "source": [
    "def eval_metrics(actual, pred):\n",
    "    rmse = np.sqrt(mean_squared_error(actual, pred))\n",
    "    mae = mean_absolute_error(actual, pred)\n",
    "    r2 = r2_score(actual, pred)\n",
    "    return rmse, mae, r2"
   ]
  },
  {
   "cell_type": "code",
   "execution_count": 12,
   "id": "18d465f2-30f2-4438-a485-c69f332a2404",
   "metadata": {},
   "outputs": [
    {
     "data": {
      "text/html": [
       "<div>\n",
       "<style scoped>\n",
       "    .dataframe tbody tr th:only-of-type {\n",
       "        vertical-align: middle;\n",
       "    }\n",
       "\n",
       "    .dataframe tbody tr th {\n",
       "        vertical-align: top;\n",
       "    }\n",
       "\n",
       "    .dataframe thead th {\n",
       "        text-align: right;\n",
       "    }\n",
       "</style>\n",
       "<table border=\"1\" class=\"dataframe\">\n",
       "  <thead>\n",
       "    <tr style=\"text-align: right;\">\n",
       "      <th></th>\n",
       "      <th>conv_rate</th>\n",
       "      <th>acc_rate</th>\n",
       "      <th>avg_daily_trips</th>\n",
       "      <th>trip_completed</th>\n",
       "    </tr>\n",
       "  </thead>\n",
       "  <tbody>\n",
       "    <tr>\n",
       "      <th>0</th>\n",
       "      <td>0.247582</td>\n",
       "      <td>0.795497</td>\n",
       "      <td>772</td>\n",
       "      <td>1</td>\n",
       "    </tr>\n",
       "    <tr>\n",
       "      <th>1</th>\n",
       "      <td>0.875381</td>\n",
       "      <td>0.025149</td>\n",
       "      <td>203</td>\n",
       "      <td>1</td>\n",
       "    </tr>\n",
       "    <tr>\n",
       "      <th>2</th>\n",
       "      <td>0.977574</td>\n",
       "      <td>0.408694</td>\n",
       "      <td>158</td>\n",
       "      <td>1</td>\n",
       "    </tr>\n",
       "    <tr>\n",
       "      <th>3</th>\n",
       "      <td>0.391113</td>\n",
       "      <td>0.092807</td>\n",
       "      <td>731</td>\n",
       "      <td>1</td>\n",
       "    </tr>\n",
       "    <tr>\n",
       "      <th>4</th>\n",
       "      <td>0.611149</td>\n",
       "      <td>0.144825</td>\n",
       "      <td>468</td>\n",
       "      <td>1</td>\n",
       "    </tr>\n",
       "    <tr>\n",
       "      <th>...</th>\n",
       "      <td>...</td>\n",
       "      <td>...</td>\n",
       "      <td>...</td>\n",
       "      <td>...</td>\n",
       "    </tr>\n",
       "    <tr>\n",
       "      <th>3611</th>\n",
       "      <td>0.222534</td>\n",
       "      <td>0.927691</td>\n",
       "      <td>114</td>\n",
       "      <td>1</td>\n",
       "    </tr>\n",
       "    <tr>\n",
       "      <th>3612</th>\n",
       "      <td>0.222534</td>\n",
       "      <td>0.927691</td>\n",
       "      <td>114</td>\n",
       "      <td>1</td>\n",
       "    </tr>\n",
       "    <tr>\n",
       "      <th>3613</th>\n",
       "      <td>0.175219</td>\n",
       "      <td>0.761434</td>\n",
       "      <td>385</td>\n",
       "      <td>1</td>\n",
       "    </tr>\n",
       "    <tr>\n",
       "      <th>3614</th>\n",
       "      <td>0.175219</td>\n",
       "      <td>0.761434</td>\n",
       "      <td>385</td>\n",
       "      <td>1</td>\n",
       "    </tr>\n",
       "    <tr>\n",
       "      <th>3615</th>\n",
       "      <td>0.175219</td>\n",
       "      <td>0.761434</td>\n",
       "      <td>385</td>\n",
       "      <td>1</td>\n",
       "    </tr>\n",
       "  </tbody>\n",
       "</table>\n",
       "<p>3616 rows × 4 columns</p>\n",
       "</div>"
      ],
      "text/plain": [
       "      conv_rate  acc_rate  avg_daily_trips  trip_completed\n",
       "0      0.247582  0.795497              772               1\n",
       "1      0.875381  0.025149              203               1\n",
       "2      0.977574  0.408694              158               1\n",
       "3      0.391113  0.092807              731               1\n",
       "4      0.611149  0.144825              468               1\n",
       "...         ...       ...              ...             ...\n",
       "3611   0.222534  0.927691              114               1\n",
       "3612   0.222534  0.927691              114               1\n",
       "3613   0.175219  0.761434              385               1\n",
       "3614   0.175219  0.761434              385               1\n",
       "3615   0.175219  0.761434              385               1\n",
       "\n",
       "[3616 rows x 4 columns]"
      ]
     },
     "execution_count": 12,
     "metadata": {},
     "output_type": "execute_result"
    }
   ],
   "source": [
    "data_df = df_orig.merge(label_orig, left_on=\"driver_id\", right_on=\"driver_id\")\n",
    "# Remove redundant columns\n",
    "data_df = data_df[data_df.columns. \\\n",
    "    drop(\"datetime\"). \\\n",
    "    drop(\"driver_id\"). \\\n",
    "    drop(\"created\"). \\\n",
    "    drop(\"event_timestamp\")]\n",
    "data_df"
   ]
  },
  {
   "cell_type": "code",
   "execution_count": 13,
   "id": "c45bd325",
   "metadata": {},
   "outputs": [],
   "source": [
    "selected_ft = [\"conv_rate\", \"acc_rate\", \"avg_daily_trips\"]"
   ]
  },
  {
   "cell_type": "code",
   "execution_count": 14,
   "id": "e86c2826-5151-4da3-8641-b9d471a2ac28",
   "metadata": {},
   "outputs": [
    {
     "data": {
      "text/plain": [
       "((2892, 3), (2892, 1), (724, 3), (724, 1))"
      ]
     },
     "execution_count": 14,
     "metadata": {},
     "output_type": "execute_result"
    }
   ],
   "source": [
    "TEST_SIZE = 0.2\n",
    "train, test = train_test_split(data_df, test_size=TEST_SIZE, random_state=random_seed)\n",
    "train_x = train.drop([target_col], axis=1)[selected_ft]\n",
    "test_x = test.drop([target_col], axis=1)[selected_ft]\n",
    "train_y = train[[target_col]]\n",
    "test_y = test[[target_col]]\n",
    "train_x.shape, train_y.shape, test_x.shape, test_y.shape"
   ]
  },
  {
   "cell_type": "markdown",
   "id": "f098ec39",
   "metadata": {},
   "source": [
    "### Training and evaluation"
   ]
  },
  {
   "cell_type": "code",
   "execution_count": 15,
   "id": "8bb21ef0",
   "metadata": {},
   "outputs": [],
   "source": [
    "from mlflow.tracking import MlflowClient\n",
    "import mlflow"
   ]
  },
  {
   "cell_type": "code",
   "execution_count": 16,
   "id": "3940ac52",
   "metadata": {},
   "outputs": [
    {
     "name": "stderr",
     "output_type": "stream",
     "text": [
      "2022/09/03 16:22:03 INFO mlflow.tracking.fluent: Experiment with name '/elastic-net' does not exist. Creating a new experiment.\n"
     ]
    },
    {
     "name": "stdout",
     "output_type": "stream",
     "text": [
      "('http://localhost:5000', 'mlflow-artifacts:/1/0bb48e4ca51442e38419abec0b08f0fd/artifacts')\n"
     ]
    }
   ],
   "source": [
    "def yield_artifacts(run_id, path=None):\n",
    "    \"\"\"Yield all artifacts in the specified run\"\"\"\n",
    "    client = MlflowClient()\n",
    "    for item in client.list_artifacts(run_id, path):\n",
    "        if item.is_dir:\n",
    "            yield from yield_artifacts(run_id, item.path)\n",
    "        else:\n",
    "            yield item.path\n",
    "\n",
    "def fetch_logged_data(run_id):\n",
    "    \"\"\"Fetch params, metrics, tags, and artifacts in the specified run\"\"\"\n",
    "    client = MlflowClient()\n",
    "    data = client.get_run(run_id).data\n",
    "    # Exclude system tags: https://www.mlflow.org/docs/latest/tracking.html#system-tags\n",
    "    tags = {k: v for k, v in data.tags.items() if not k.startswith(\"mlflow.\")}\n",
    "    artifacts = list(yield_artifacts(run_id))\n",
    "    return {\n",
    "        \"params\": data.params,\n",
    "        \"metrics\": data.metrics,\n",
    "        \"tags\": tags,\n",
    "        \"artifacts\": artifacts,\n",
    "    }\n",
    "\n",
    "MLFLOW_TRACKING_URI = \"http://localhost:5000\"\n",
    "mlflow.set_tracking_uri(MLFLOW_TRACKING_URI)\n",
    "mlflow.set_experiment(\"/elastic-net\")\n",
    "print((mlflow.get_tracking_uri(), mlflow.get_artifact_uri()))\n",
    "mlflow.sklearn.autolog()"
   ]
  },
  {
   "cell_type": "code",
   "execution_count": 17,
   "id": "ae4abca5-4985-49cd-916b-fb6efae63d55",
   "metadata": {},
   "outputs": [
    {
     "name": "stderr",
     "output_type": "stream",
     "text": [
      "2022/09/03 16:22:04 WARNING mlflow.utils.autologging_utils: MLflow autologging encountered a warning: \"/Users/tung.dao/miniconda3/envs/mlopsvn-code-training/lib/python3.9/site-packages/mlflow/models/signature.py:129: UserWarning: Hint: Inferred schema contains integer column(s). Integer columns in Python cannot represent missing values. If your input data contains missing values at inference time, it will be encoded as floats and will cause a schema enforcement error. The best way to avoid this problem is to infer the model schema based on a realistic data sample (training dataset) that includes missing values. Alternatively, you can declare integer columns as doubles (float64) whenever these columns may have missing values. See `Handling Integers With Missing Values <https://www.mlflow.org/docs/latest/models.html#handling-integers-with-missing-values>`_ for more details.\"\n",
      "2022/09/03 16:22:06 WARNING mlflow.utils.autologging_utils: MLflow autologging encountered a warning: \"/Users/tung.dao/miniconda3/envs/mlopsvn-code-training/lib/python3.9/site-packages/_distutils_hack/__init__.py:33: UserWarning: Setuptools is replacing distutils.\"\n"
     ]
    },
    {
     "name": "stdout",
     "output_type": "stream",
     "text": [
      "Elasticnet model (alpha=0.500000, l1_ratio=0.100000):\n",
      "  RMSE: 0.4903734721027044\n",
      "  MAE: 0.480175079686162\n",
      "  R2: -0.00034586893532195795\n"
     ]
    }
   ],
   "source": [
    "ALPHA = 0.5\n",
    "L1_RATIO = 0.1\n",
    "\n",
    "model = ElasticNet(alpha=ALPHA, l1_ratio=L1_RATIO, random_state=random_seed)\n",
    "model.fit(train_x, train_y)\n",
    "\n",
    "predicted_qualities = model.predict(test_x)\n",
    "(rmse, mae, r2) = eval_metrics(test_y, predicted_qualities)\n",
    "\n",
    "print(\"Elasticnet model (alpha=%f, l1_ratio=%f):\" % (ALPHA, L1_RATIO))\n",
    "print(\"  RMSE: %s\" % rmse)\n",
    "print(\"  MAE: %s\" % mae)\n",
    "print(\"  R2: %s\" % r2)"
   ]
  },
  {
   "cell_type": "code",
   "execution_count": 18,
   "id": "cae90676",
   "metadata": {},
   "outputs": [
    {
     "name": "stdout",
     "output_type": "stream",
     "text": [
      "Logged data and model in run 0bb48e4ca51442e38419abec0b08f0fd\n",
      "\n",
      "---------- logged params ----------\n",
      "{'alpha': '0.5', 'copy_X': 'True', 'fit_intercept': 'True', 'l1_ratio': '0.1', 'max_iter': '1000', 'normalize': 'deprecated', 'positive': 'False', 'precompute': 'False', 'random_state': '17', 'selection': 'cyclic', 'tol': '0.0001', 'warm_start': 'False', 'features': \"['conv_rate', 'acc_rate', 'avg_daily_trips']\"}\n",
      "\n",
      "---------- logged metrics ----------\n",
      "{'training_mse': 0.23969650650486524, 'training_mae': 0.47939508605448006, 'training_r2_score': 0.00016256694638772107, 'training_rmse': 0.48958809881865517, 'training_score': 0.00016256694638772107, 'testing_rmse': 0.4903734721027044, 'testing_r2': -0.00034586893532195795, 'testing_mae': 0.480175079686162}\n",
      "\n",
      "---------- logged tags ----------\n",
      "{'estimator_name': 'ElasticNet', 'estimator_class': 'sklearn.linear_model._coordinate_descent.ElasticNet'}\n",
      "\n",
      "---------- logged artifacts ----------\n",
      "['model/MLmodel', 'model/conda.yaml', 'model/model.pkl', 'model/python_env.yaml', 'model/requirements.txt']\n"
     ]
    }
   ],
   "source": [
    "import uuid\n",
    "mlflow.set_tag(\"mlflow.runName\", uuid.uuid1())\n",
    "mlflow.log_param(\"features\", selected_ft)\n",
    "mlflow.log_param(\"alpha\", ALPHA)\n",
    "mlflow.log_param(\"l1_ratio\", L1_RATIO)\n",
    "mlflow.log_metric(\"testing_rmse\", rmse)\n",
    "mlflow.log_metric(\"testing_r2\", r2)\n",
    "mlflow.log_metric(\"testing_mae\", mae)\n",
    "mlflow.sklearn.log_model(model, \"model\")\n",
    "mlflow.end_run()\n",
    "\n",
    "run_id = mlflow.last_active_run().info.run_id\n",
    "print(\"Logged data and model in run {}\".format(run_id))\n",
    "for key, data in fetch_logged_data(run_id).items():\n",
    "    print(\"\\n---------- logged {} ----------\".format(key))\n",
    "    print(data)"
   ]
  },
  {
   "cell_type": "markdown",
   "id": "7faab224-e2f0-4505-975f-e23bbe9a70e9",
   "metadata": {},
   "source": [
    "### Export, import and inference"
   ]
  },
  {
   "cell_type": "code",
   "execution_count": 20,
   "id": "234e7bfd-0c84-4160-ad4c-69272021664e",
   "metadata": {},
   "outputs": [
    {
     "data": {
      "text/plain": [
       "['model/driver_model.bin']"
      ]
     },
     "execution_count": 20,
     "metadata": {},
     "output_type": "execute_result"
    }
   ],
   "source": [
    "import joblib\n",
    "MODEL_DIR = Path(\"./model\")\n",
    "MODEL_DIR.mkdir(parents=True, exist_ok=True)\n",
    "model_path = MODEL_DIR / \"driver_model.bin\"\n",
    "joblib.dump(model, model_path)"
   ]
  },
  {
   "cell_type": "code",
   "execution_count": 21,
   "id": "72c934ab",
   "metadata": {},
   "outputs": [
    {
     "data": {
      "text/html": [
       "<style>#sk-container-id-1 {color: black;background-color: white;}#sk-container-id-1 pre{padding: 0;}#sk-container-id-1 div.sk-toggleable {background-color: white;}#sk-container-id-1 label.sk-toggleable__label {cursor: pointer;display: block;width: 100%;margin-bottom: 0;padding: 0.3em;box-sizing: border-box;text-align: center;}#sk-container-id-1 label.sk-toggleable__label-arrow:before {content: \"▸\";float: left;margin-right: 0.25em;color: #696969;}#sk-container-id-1 label.sk-toggleable__label-arrow:hover:before {color: black;}#sk-container-id-1 div.sk-estimator:hover label.sk-toggleable__label-arrow:before {color: black;}#sk-container-id-1 div.sk-toggleable__content {max-height: 0;max-width: 0;overflow: hidden;text-align: left;background-color: #f0f8ff;}#sk-container-id-1 div.sk-toggleable__content pre {margin: 0.2em;color: black;border-radius: 0.25em;background-color: #f0f8ff;}#sk-container-id-1 input.sk-toggleable__control:checked~div.sk-toggleable__content {max-height: 200px;max-width: 100%;overflow: auto;}#sk-container-id-1 input.sk-toggleable__control:checked~label.sk-toggleable__label-arrow:before {content: \"▾\";}#sk-container-id-1 div.sk-estimator input.sk-toggleable__control:checked~label.sk-toggleable__label {background-color: #d4ebff;}#sk-container-id-1 div.sk-label input.sk-toggleable__control:checked~label.sk-toggleable__label {background-color: #d4ebff;}#sk-container-id-1 input.sk-hidden--visually {border: 0;clip: rect(1px 1px 1px 1px);clip: rect(1px, 1px, 1px, 1px);height: 1px;margin: -1px;overflow: hidden;padding: 0;position: absolute;width: 1px;}#sk-container-id-1 div.sk-estimator {font-family: monospace;background-color: #f0f8ff;border: 1px dotted black;border-radius: 0.25em;box-sizing: border-box;margin-bottom: 0.5em;}#sk-container-id-1 div.sk-estimator:hover {background-color: #d4ebff;}#sk-container-id-1 div.sk-parallel-item::after {content: \"\";width: 100%;border-bottom: 1px solid gray;flex-grow: 1;}#sk-container-id-1 div.sk-label:hover label.sk-toggleable__label {background-color: #d4ebff;}#sk-container-id-1 div.sk-serial::before {content: \"\";position: absolute;border-left: 1px solid gray;box-sizing: border-box;top: 0;bottom: 0;left: 50%;z-index: 0;}#sk-container-id-1 div.sk-serial {display: flex;flex-direction: column;align-items: center;background-color: white;padding-right: 0.2em;padding-left: 0.2em;position: relative;}#sk-container-id-1 div.sk-item {position: relative;z-index: 1;}#sk-container-id-1 div.sk-parallel {display: flex;align-items: stretch;justify-content: center;background-color: white;position: relative;}#sk-container-id-1 div.sk-item::before, #sk-container-id-1 div.sk-parallel-item::before {content: \"\";position: absolute;border-left: 1px solid gray;box-sizing: border-box;top: 0;bottom: 0;left: 50%;z-index: -1;}#sk-container-id-1 div.sk-parallel-item {display: flex;flex-direction: column;z-index: 1;position: relative;background-color: white;}#sk-container-id-1 div.sk-parallel-item:first-child::after {align-self: flex-end;width: 50%;}#sk-container-id-1 div.sk-parallel-item:last-child::after {align-self: flex-start;width: 50%;}#sk-container-id-1 div.sk-parallel-item:only-child::after {width: 0;}#sk-container-id-1 div.sk-dashed-wrapped {border: 1px dashed gray;margin: 0 0.4em 0.5em 0.4em;box-sizing: border-box;padding-bottom: 0.4em;background-color: white;}#sk-container-id-1 div.sk-label label {font-family: monospace;font-weight: bold;display: inline-block;line-height: 1.2em;}#sk-container-id-1 div.sk-label-container {text-align: center;}#sk-container-id-1 div.sk-container {/* jupyter's `normalize.less` sets `[hidden] { display: none; }` but bootstrap.min.css set `[hidden] { display: none !important; }` so we also need the `!important` here to be able to override the default hidden behavior on the sphinx rendered scikit-learn.org. See: https://github.com/scikit-learn/scikit-learn/issues/21755 */display: inline-block !important;position: relative;}#sk-container-id-1 div.sk-text-repr-fallback {display: none;}</style><div id=\"sk-container-id-1\" class=\"sk-top-container\"><div class=\"sk-text-repr-fallback\"><pre>ElasticNet(alpha=0.5, l1_ratio=0.1, random_state=17)</pre><b>In a Jupyter environment, please rerun this cell to show the HTML representation or trust the notebook. <br />On GitHub, the HTML representation is unable to render, please try loading this page with nbviewer.org.</b></div><div class=\"sk-container\" hidden><div class=\"sk-item\"><div class=\"sk-estimator sk-toggleable\"><input class=\"sk-toggleable__control sk-hidden--visually\" id=\"sk-estimator-id-1\" type=\"checkbox\" checked><label for=\"sk-estimator-id-1\" class=\"sk-toggleable__label sk-toggleable__label-arrow\">ElasticNet</label><div class=\"sk-toggleable__content\"><pre>ElasticNet(alpha=0.5, l1_ratio=0.1, random_state=17)</pre></div></div></div></div></div>"
      ],
      "text/plain": [
       "ElasticNet(alpha=0.5, l1_ratio=0.1, random_state=17)"
      ]
     },
     "execution_count": 21,
     "metadata": {},
     "output_type": "execute_result"
    }
   ],
   "source": [
    "loaded_model = joblib.load(model_path)\n",
    "loaded_model"
   ]
  },
  {
   "cell_type": "code",
   "execution_count": 23,
   "id": "f369c951",
   "metadata": {},
   "outputs": [
    {
     "data": {
      "text/plain": [
       "array([0.3903031 , 0.39455205, 0.39111143, 0.39606509, 0.40796214,\n",
       "       0.39844864, 0.39071763, 0.390386  , 0.40431426, 0.3884377 ,\n",
       "       0.38885224, 0.40016895, 0.39975442, 0.40035549, 0.39310118,\n",
       "       0.39098707, 0.39276956, 0.40591021, 0.40837667, 0.39952642,\n",
       "       0.39527748, 0.39523602, 0.38920459, 0.39084199, 0.40624184,\n",
       "       0.38934967, 0.39708069, 0.40551641, 0.40383755, 0.38974348,\n",
       "       0.38887296, 0.39621017, 0.38849988, 0.39090417, 0.39952642,\n",
       "       0.40033476, 0.39055181, 0.39067617, 0.38922531, 0.40526769,\n",
       "       0.40412773, 0.40765124, 0.39496658, 0.40758906, 0.39310118,\n",
       "       0.39187832, 0.39708069, 0.39931916, 0.40526769, 0.3887486 ,\n",
       "       0.39546401, 0.39260375, 0.40559931, 0.39003365, 0.39882172,\n",
       "       0.40895702, 0.40267686, 0.39349499, 0.40147472, 0.40553713,\n",
       "       0.39730868, 0.40313285, 0.39936061, 0.39119434, 0.4054335 ,\n",
       "       0.40709163, 0.40787924, 0.39656252, 0.39766103, 0.40280122,\n",
       "       0.39167105, 0.40487388, 0.39538111, 0.40327794, 0.40325721,\n",
       "       0.40763052, 0.3942826 , 0.4028634 , 0.40097729, 0.39442769,\n",
       "       0.39005438, 0.40680145, 0.39175396, 0.40570295, 0.39772321,\n",
       "       0.40300849, 0.40837667, 0.39579564, 0.40736107, 0.39772321,\n",
       "       0.40688436, 0.39040673, 0.39055181, 0.40230379, 0.40458371,\n",
       "       0.4028634 , 0.39384734, 0.40676   , 0.38860352, 0.40640765,\n",
       "       0.40414845, 0.40315358, 0.39403388, 0.39324627, 0.39125652,\n",
       "       0.39395097, 0.40304994, 0.39726723, 0.40070784, 0.40327794,\n",
       "       0.39853155, 0.40307067, 0.40603457, 0.39757813, 0.3933499 ,\n",
       "       0.39198195, 0.39465568, 0.40698799, 0.40182708, 0.39940207,\n",
       "       0.39569201, 0.3965418 , 0.39210631, 0.39666616, 0.40673927,\n",
       "       0.40344375, 0.40829377, 0.39882172, 0.39254157, 0.40352665,\n",
       "       0.39225139, 0.40267686, 0.38862424, 0.39003365, 0.39388879,\n",
       "       0.39208558, 0.38966057, 0.40889484, 0.39600291, 0.40265614,\n",
       "       0.39268665, 0.39844864, 0.40394119, 0.3900751 , 0.39067617,\n",
       "       0.39540183, 0.39281101, 0.3899922 , 0.39457277, 0.40112237,\n",
       "       0.39527748, 0.40559931, 0.40609675, 0.39071763, 0.3926452 ,\n",
       "       0.40603457, 0.39005438, 0.40394119, 0.38988856, 0.39266593,\n",
       "       0.3988839 , 0.40831449, 0.3975574 , 0.39824138, 0.3884377 ,\n",
       "       0.38943258, 0.40781706, 0.39929843, 0.39726723, 0.40079075,\n",
       "       0.40392046, 0.40404482, 0.39830356, 0.3935779 , 0.39241721,\n",
       "       0.38949476, 0.3887486 , 0.39710141, 0.40406555, 0.40526769,\n",
       "       0.39869736, 0.40033476, 0.3914016 , 0.40841813, 0.40794142,\n",
       "       0.40829377, 0.40866685, 0.39824138, 0.40752688, 0.39569201,\n",
       "       0.40789996, 0.40601384, 0.40742325, 0.38922531, 0.39237575,\n",
       "       0.39540183, 0.39208558, 0.39013728, 0.39710141, 0.40553713,\n",
       "       0.38860352, 0.40014822, 0.40528841, 0.40041767, 0.40891557,\n",
       "       0.39055181, 0.40392046, 0.3975574 , 0.40823159, 0.39285247,\n",
       "       0.39587855, 0.40060421, 0.39048964, 0.3923343 , 0.40018968,\n",
       "       0.40854249, 0.40161981, 0.40369247, 0.3893704 , 0.40804505,\n",
       "       0.39268665, 0.40709163, 0.39316336, 0.40031403, 0.40267686,\n",
       "       0.39005438, 0.40731962, 0.39550547, 0.39106998, 0.39890463,\n",
       "       0.40713308, 0.39455205, 0.40412773, 0.40725744, 0.40217943,\n",
       "       0.39183686, 0.40649056, 0.40168199, 0.40744398, 0.39283174,\n",
       "       0.39618944, 0.39708069, 0.40717453, 0.39299755, 0.39629308,\n",
       "       0.4034023 , 0.40555786, 0.40238669, 0.40466662, 0.39349499,\n",
       "       0.39606509, 0.40338157, 0.40835595, 0.40018968, 0.3963138 ,\n",
       "       0.4077756 , 0.39975442, 0.39210631, 0.40358883, 0.39882172,\n",
       "       0.39635526, 0.38949476, 0.39133942, 0.40412773, 0.39581637,\n",
       "       0.39457277, 0.38922531, 0.4008322 , 0.38845843, 0.40794142,\n",
       "       0.40705017, 0.40580658, 0.39527748, 0.40499824, 0.39766103,\n",
       "       0.40027258, 0.40833522, 0.39040673, 0.40025185, 0.39077981,\n",
       "       0.39699778, 0.38980566, 0.3984901 , 0.40705017, 0.40698799,\n",
       "       0.39946424, 0.4057444 , 0.40352665, 0.40085293, 0.40041767,\n",
       "       0.40329866, 0.39799266, 0.39281101, 0.39260375, 0.39683197,\n",
       "       0.40120528, 0.40389973, 0.38963985, 0.40240742, 0.40068711,\n",
       "       0.39546401, 0.39853155, 0.40736107, 0.4031743 , 0.39384734,\n",
       "       0.40698799, 0.40244887, 0.40891557, 0.39952642, 0.38990929,\n",
       "       0.39287319, 0.40848031, 0.39687342, 0.39635526, 0.39587855,\n",
       "       0.39747449, 0.40307067, 0.39967151, 0.40139182, 0.39324627,\n",
       "       0.39548474, 0.39703923, 0.39745377, 0.39504948, 0.39869736,\n",
       "       0.39500803, 0.39181614, 0.40222088, 0.39496658, 0.40692581,\n",
       "       0.39374371, 0.39276956, 0.39386807, 0.39494585, 0.39554692,\n",
       "       0.40462516, 0.39917407, 0.39218921, 0.40315358, 0.39511166,\n",
       "       0.40655274, 0.40091511, 0.40607602, 0.4054335 , 0.38988856,\n",
       "       0.40099801, 0.40562004, 0.39106998, 0.39504948, 0.40375465,\n",
       "       0.39220994, 0.39710141, 0.40588948, 0.40559931, 0.40848031,\n",
       "       0.40562004, 0.4034852 , 0.39073835, 0.39732941, 0.40684291,\n",
       "       0.39720505, 0.40060421, 0.39218921, 0.39005438, 0.40168199,\n",
       "       0.39082126, 0.40466662, 0.39270738, 0.39082126, 0.40383755,\n",
       "       0.40070784, 0.39952642, 0.40804505, 0.40421063, 0.40586876,\n",
       "       0.39339136, 0.40510187, 0.40358883, 0.3923343 , 0.40099801,\n",
       "       0.40771342, 0.40868757, 0.4002104 , 0.39165032, 0.39015801,\n",
       "       0.39312191, 0.40615893, 0.39440696, 0.3933499 , 0.40649056,\n",
       "       0.39830356, 0.39312191, 0.39579564, 0.39339136, 0.39629308,\n",
       "       0.38945331, 0.40719526, 0.40139182, 0.39531893, 0.40551641,\n",
       "       0.39096635, 0.39701851, 0.39967151, 0.38922531, 0.39478004,\n",
       "       0.3893704 , 0.3919405 , 0.40837667, 0.40354738, 0.39378516,\n",
       "       0.39803411, 0.40375465, 0.3884377 , 0.39844864, 0.40779633,\n",
       "       0.40466662, 0.40779633, 0.40831449, 0.39015801, 0.40120528,\n",
       "       0.39621017, 0.40688436, 0.40632474, 0.39527748, 0.40462516,\n",
       "       0.39996168, 0.39208558, 0.39374371, 0.39569201, 0.39929843,\n",
       "       0.39890463, 0.3910078 , 0.39929843, 0.39907044, 0.40827304,\n",
       "       0.3919405 , 0.39772321, 0.39488367, 0.40414845, 0.39929843,\n",
       "       0.40439717, 0.39952642, 0.40327794, 0.39606509, 0.40510187,\n",
       "       0.40128818, 0.40255251, 0.39668688, 0.40369247, 0.38837552,\n",
       "       0.40190998, 0.390386  , 0.39486294, 0.39005438, 0.40448008,\n",
       "       0.40483243, 0.39621017, 0.39065545, 0.40763052, 0.38885224,\n",
       "       0.39985805, 0.40651128, 0.3969356 , 0.39208558, 0.39913262,\n",
       "       0.40551641, 0.39915335, 0.40018968, 0.38963985, 0.40294631,\n",
       "       0.3949044 , 0.39500803, 0.40676   , 0.40031403, 0.39254157,\n",
       "       0.39042746, 0.38918386, 0.39726723, 0.40363029, 0.40557859,\n",
       "       0.40881193, 0.39805484, 0.3887486 , 0.40510187, 0.40705017,\n",
       "       0.38879006, 0.39281101, 0.39614799, 0.40313285, 0.39805484,\n",
       "       0.40858394, 0.39281101, 0.39720505, 0.39629308, 0.40313285,\n",
       "       0.40696727, 0.40456298, 0.40833522, 0.39046891, 0.39813774,\n",
       "       0.39013728, 0.38943258, 0.39579564, 0.40491534, 0.39345354,\n",
       "       0.39165032, 0.40232451, 0.40018968, 0.39998241, 0.40611748,\n",
       "       0.39077981, 0.40091511, 0.40269759, 0.4008322 , 0.40676   ,\n",
       "       0.40829377, 0.40079075, 0.40694654, 0.39836574, 0.39987878,\n",
       "       0.40456298, 0.40566149, 0.39260375, 0.39388879, 0.38922531,\n",
       "       0.40881193, 0.40752688, 0.39670761, 0.39270738, 0.39299755,\n",
       "       0.39728795, 0.39625162, 0.38885224, 0.39009583, 0.39401315,\n",
       "       0.40773415, 0.38980566, 0.4001275 , 0.40487388, 0.39065545,\n",
       "       0.39697706, 0.40342302, 0.40609675, 0.40157836, 0.40209652,\n",
       "       0.39208558, 0.40058348, 0.40659419, 0.40358883, 0.39084199,\n",
       "       0.40866685, 0.40541277, 0.40510187, 0.40640765, 0.40151618,\n",
       "       0.39345354, 0.40526769, 0.39533966, 0.3923343 , 0.40715381,\n",
       "       0.39198195, 0.39507021, 0.40607602, 0.38839625, 0.39751595,\n",
       "       0.40354738, 0.39165032, 0.40186853, 0.40018968, 0.40300849,\n",
       "       0.39355717, 0.39600291, 0.40665637, 0.3913187 , 0.39434478,\n",
       "       0.40530914, 0.40584803, 0.40607602, 0.39987878, 0.39504948,\n",
       "       0.3890595 , 0.40470807, 0.39569201, 0.40166126, 0.40891557,\n",
       "       0.39782684, 0.40392046, 0.40000314, 0.40070784, 0.39699778,\n",
       "       0.40477025, 0.39055181, 0.3919405 , 0.40325721, 0.40445935,\n",
       "       0.39243793, 0.40369247, 0.39438623, 0.40692581, 0.40313285,\n",
       "       0.40843885, 0.40190998, 0.40027258, 0.38845843, 0.40470807,\n",
       "       0.40203434, 0.40369247, 0.40097729, 0.4060553 , 0.39482149,\n",
       "       0.39299755, 0.39341208, 0.40070784, 0.40292558, 0.39245866,\n",
       "       0.39687342, 0.40296704, 0.38883151, 0.4034852 , 0.40458371,\n",
       "       0.39994096, 0.40750616, 0.39220994, 0.39683197, 0.38990929,\n",
       "       0.39660398, 0.40166126, 0.39851082, 0.39482149, 0.40050057,\n",
       "       0.39766103, 0.40050057, 0.38837552, 0.39345354, 0.40404482,\n",
       "       0.39011656, 0.40371319, 0.40108092, 0.38963985, 0.4070709 ,\n",
       "       0.40097729, 0.39504948, 0.38934967, 0.39417897, 0.39339136,\n",
       "       0.38887296, 0.39057254, 0.39965078, 0.40763052, 0.40186853,\n",
       "       0.39339136, 0.39189904, 0.40217943, 0.40760979, 0.40530914,\n",
       "       0.39258302, 0.40729889, 0.40464589, 0.40016895, 0.40271832,\n",
       "       0.39569201, 0.40810723, 0.40381683, 0.39567128, 0.39929843,\n",
       "       0.4070709 , 0.39026164, 0.39921553, 0.39502876, 0.39051036,\n",
       "       0.39173323, 0.40029331, 0.4070709 , 0.39351572, 0.40835595,\n",
       "       0.3920234 , 0.40234524, 0.39840719, 0.39994096, 0.4061382 ,\n",
       "       0.39822065, 0.39167105, 0.40893629, 0.39998241, 0.39581637,\n",
       "       0.38955694, 0.39111143, 0.39517384, 0.39051036, 0.40514333,\n",
       "       0.40031403, 0.40763052, 0.40060421, 0.39042746, 0.40354738,\n",
       "       0.4077756 , 0.40249033, 0.40796214, 0.38945331, 0.39009583,\n",
       "       0.39337063, 0.39324627, 0.39026164, 0.40157836, 0.40091511,\n",
       "       0.4008322 , 0.39351572, 0.38831334, 0.38922531, 0.39761958,\n",
       "       0.39998241, 0.40694654, 0.39390952, 0.39206486, 0.40731962,\n",
       "       0.3942826 , 0.40414845, 0.40375465, 0.39208558, 0.40445935,\n",
       "       0.39341208, 0.39484222, 0.40754761, 0.39873881])"
      ]
     },
     "execution_count": 23,
     "metadata": {},
     "output_type": "execute_result"
    }
   ],
   "source": [
    "predictions = loaded_model.predict(test_x)\n",
    "predictions"
   ]
  },
  {
   "cell_type": "code",
   "execution_count": null,
   "id": "2f89d0c9",
   "metadata": {},
   "outputs": [],
   "source": []
  }
 ],
 "metadata": {
  "kernelspec": {
   "display_name": "Python 3.9.13 ('mlopsvn-code-training')",
   "language": "python",
   "name": "python3"
  },
  "language_info": {
   "codemirror_mode": {
    "name": "ipython",
    "version": 3
   },
   "file_extension": ".py",
   "mimetype": "text/x-python",
   "name": "python",
   "nbconvert_exporter": "python",
   "pygments_lexer": "ipython3",
   "version": "3.9.13"
  },
  "vscode": {
   "interpreter": {
    "hash": "d1e56b398ca00f2eec21cb1d850b847879d95407a71be265f34934146c431c0c"
   }
  }
 },
 "nbformat": 4,
 "nbformat_minor": 5
}

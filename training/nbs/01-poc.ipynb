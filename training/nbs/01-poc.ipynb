{
 "cells": [
  {
   "cell_type": "code",
   "execution_count": 1,
   "id": "37ce069d-6d13-4e6a-a36f-fa5bb7c33696",
   "metadata": {},
   "outputs": [
    {
     "name": "stdout",
     "output_type": "stream",
     "text": [
      "/Users/tung.dao/tung/mlopsvn/code/mlops-crash-course-code/training\n"
     ]
    }
   ],
   "source": [
    "import os\n",
    "os.chdir(\"..\")\n",
    "!pwd"
   ]
  },
  {
   "cell_type": "code",
   "execution_count": 2,
   "id": "fafa4c79-80e0-4af1-a4fc-39deab786ba5",
   "metadata": {},
   "outputs": [],
   "source": [
    "import pandas as pd\n",
    "import fastparquet\n",
    "from pathlib import Path\n",
    "import numpy as np\n",
    "\n",
    "random_seed = 17\n",
    "np.random.seed(random_seed)"
   ]
  },
  {
   "cell_type": "markdown",
   "id": "092197b6-1dc5-4154-98e7-6ad74c75b88e",
   "metadata": {},
   "source": [
    "## Load data"
   ]
  },
  {
   "cell_type": "code",
   "execution_count": 3,
   "id": "60f2c94c-0547-420f-862a-f1e067b9ca64",
   "metadata": {},
   "outputs": [],
   "source": [
    "DATA_DIR = Path(\"./data\")\n",
    "TMP_DIR = Path(\"./tmp\")\n",
    "DATA_PATH = DATA_DIR / \"driver_stats.parquet\"\n",
    "LABEL_PATH = DATA_DIR / \"driver_orders.csv\"\n",
    "if not DATA_PATH.is_file():\n",
    "    raise Exception(\"DATA_PATH not found\")\n",
    "if not LABEL_PATH.is_file():\n",
    "    raise Exception(\"LABEL_PATH not found\")"
   ]
  },
  {
   "cell_type": "code",
   "execution_count": 4,
   "id": "66d91fde-2455-4530-b114-3692fcd1231a",
   "metadata": {},
   "outputs": [
    {
     "data": {
      "text/html": [
       "<div>\n",
       "<style scoped>\n",
       "    .dataframe tbody tr th:only-of-type {\n",
       "        vertical-align: middle;\n",
       "    }\n",
       "\n",
       "    .dataframe tbody tr th {\n",
       "        vertical-align: top;\n",
       "    }\n",
       "\n",
       "    .dataframe thead th {\n",
       "        text-align: right;\n",
       "    }\n",
       "</style>\n",
       "<table border=\"1\" class=\"dataframe\">\n",
       "  <thead>\n",
       "    <tr style=\"text-align: right;\">\n",
       "      <th></th>\n",
       "      <th>datetime</th>\n",
       "      <th>driver_id</th>\n",
       "      <th>conv_rate</th>\n",
       "      <th>acc_rate</th>\n",
       "      <th>avg_daily_trips</th>\n",
       "      <th>created</th>\n",
       "    </tr>\n",
       "  </thead>\n",
       "  <tbody>\n",
       "    <tr>\n",
       "      <th>0</th>\n",
       "      <td>2021-07-13 11:00:00+00:00</td>\n",
       "      <td>1005</td>\n",
       "      <td>0.373837</td>\n",
       "      <td>0.154890</td>\n",
       "      <td>498</td>\n",
       "      <td>2021-07-28 11:08:04.802</td>\n",
       "    </tr>\n",
       "    <tr>\n",
       "      <th>1</th>\n",
       "      <td>2021-07-13 12:00:00+00:00</td>\n",
       "      <td>1005</td>\n",
       "      <td>0.571627</td>\n",
       "      <td>0.643958</td>\n",
       "      <td>656</td>\n",
       "      <td>2021-07-28 11:08:04.802</td>\n",
       "    </tr>\n",
       "    <tr>\n",
       "      <th>2</th>\n",
       "      <td>2021-07-13 13:00:00+00:00</td>\n",
       "      <td>1005</td>\n",
       "      <td>0.399909</td>\n",
       "      <td>0.993888</td>\n",
       "      <td>722</td>\n",
       "      <td>2021-07-28 11:08:04.802</td>\n",
       "    </tr>\n",
       "    <tr>\n",
       "      <th>3</th>\n",
       "      <td>2021-07-13 14:00:00+00:00</td>\n",
       "      <td>1005</td>\n",
       "      <td>0.967468</td>\n",
       "      <td>0.788458</td>\n",
       "      <td>424</td>\n",
       "      <td>2021-07-28 11:08:04.802</td>\n",
       "    </tr>\n",
       "    <tr>\n",
       "      <th>4</th>\n",
       "      <td>2021-07-13 15:00:00+00:00</td>\n",
       "      <td>1005</td>\n",
       "      <td>0.024679</td>\n",
       "      <td>0.956064</td>\n",
       "      <td>569</td>\n",
       "      <td>2021-07-28 11:08:04.802</td>\n",
       "    </tr>\n",
       "    <tr>\n",
       "      <th>...</th>\n",
       "      <td>...</td>\n",
       "      <td>...</td>\n",
       "      <td>...</td>\n",
       "      <td>...</td>\n",
       "      <td>...</td>\n",
       "      <td>...</td>\n",
       "    </tr>\n",
       "    <tr>\n",
       "      <th>1802</th>\n",
       "      <td>2021-07-28 09:00:00+00:00</td>\n",
       "      <td>1001</td>\n",
       "      <td>0.089418</td>\n",
       "      <td>0.311234</td>\n",
       "      <td>485</td>\n",
       "      <td>2021-07-28 11:08:04.802</td>\n",
       "    </tr>\n",
       "    <tr>\n",
       "      <th>1803</th>\n",
       "      <td>2021-07-28 10:00:00+00:00</td>\n",
       "      <td>1001</td>\n",
       "      <td>0.222534</td>\n",
       "      <td>0.927691</td>\n",
       "      <td>114</td>\n",
       "      <td>2021-07-28 11:08:04.802</td>\n",
       "    </tr>\n",
       "    <tr>\n",
       "      <th>1804</th>\n",
       "      <td>2021-04-12 07:00:00+00:00</td>\n",
       "      <td>1001</td>\n",
       "      <td>0.175219</td>\n",
       "      <td>0.761434</td>\n",
       "      <td>385</td>\n",
       "      <td>2021-07-28 11:08:04.802</td>\n",
       "    </tr>\n",
       "    <tr>\n",
       "      <th>902</th>\n",
       "      <td>2021-07-20 23:00:00+00:00</td>\n",
       "      <td>1003</td>\n",
       "      <td>0.025968</td>\n",
       "      <td>0.109748</td>\n",
       "      <td>55</td>\n",
       "      <td>2021-07-28 11:08:04.802</td>\n",
       "    </tr>\n",
       "    <tr>\n",
       "      <th>902</th>\n",
       "      <td>2021-07-20 23:00:00+00:00</td>\n",
       "      <td>1003</td>\n",
       "      <td>0.025968</td>\n",
       "      <td>0.109748</td>\n",
       "      <td>55</td>\n",
       "      <td>2021-07-28 11:08:04.802</td>\n",
       "    </tr>\n",
       "  </tbody>\n",
       "</table>\n",
       "<p>1807 rows × 6 columns</p>\n",
       "</div>"
      ],
      "text/plain": [
       "                      datetime  driver_id  conv_rate  acc_rate  \\\n",
       "0    2021-07-13 11:00:00+00:00       1005   0.373837  0.154890   \n",
       "1    2021-07-13 12:00:00+00:00       1005   0.571627  0.643958   \n",
       "2    2021-07-13 13:00:00+00:00       1005   0.399909  0.993888   \n",
       "3    2021-07-13 14:00:00+00:00       1005   0.967468  0.788458   \n",
       "4    2021-07-13 15:00:00+00:00       1005   0.024679  0.956064   \n",
       "...                        ...        ...        ...       ...   \n",
       "1802 2021-07-28 09:00:00+00:00       1001   0.089418  0.311234   \n",
       "1803 2021-07-28 10:00:00+00:00       1001   0.222534  0.927691   \n",
       "1804 2021-04-12 07:00:00+00:00       1001   0.175219  0.761434   \n",
       "902  2021-07-20 23:00:00+00:00       1003   0.025968  0.109748   \n",
       "902  2021-07-20 23:00:00+00:00       1003   0.025968  0.109748   \n",
       "\n",
       "      avg_daily_trips                 created  \n",
       "0                 498 2021-07-28 11:08:04.802  \n",
       "1                 656 2021-07-28 11:08:04.802  \n",
       "2                 722 2021-07-28 11:08:04.802  \n",
       "3                 424 2021-07-28 11:08:04.802  \n",
       "4                 569 2021-07-28 11:08:04.802  \n",
       "...               ...                     ...  \n",
       "1802              485 2021-07-28 11:08:04.802  \n",
       "1803              114 2021-07-28 11:08:04.802  \n",
       "1804              385 2021-07-28 11:08:04.802  \n",
       "902                55 2021-07-28 11:08:04.802  \n",
       "902                55 2021-07-28 11:08:04.802  \n",
       "\n",
       "[1807 rows x 6 columns]"
      ]
     },
     "execution_count": 4,
     "metadata": {},
     "output_type": "execute_result"
    }
   ],
   "source": [
    "df_orig = pd.read_parquet(DATA_PATH, engine='fastparquet')\n",
    "df_orig"
   ]
  },
  {
   "cell_type": "code",
   "execution_count": 5,
   "id": "9d6d3cf6-2986-4ade-a150-48fde08e0dda",
   "metadata": {},
   "outputs": [
    {
     "data": {
      "text/html": [
       "<div>\n",
       "<style scoped>\n",
       "    .dataframe tbody tr th:only-of-type {\n",
       "        vertical-align: middle;\n",
       "    }\n",
       "\n",
       "    .dataframe tbody tr th {\n",
       "        vertical-align: top;\n",
       "    }\n",
       "\n",
       "    .dataframe thead th {\n",
       "        text-align: right;\n",
       "    }\n",
       "</style>\n",
       "<table border=\"1\" class=\"dataframe\">\n",
       "  <thead>\n",
       "    <tr style=\"text-align: right;\">\n",
       "      <th></th>\n",
       "      <th>event_timestamp</th>\n",
       "      <th>driver_id</th>\n",
       "      <th>trip_completed</th>\n",
       "    </tr>\n",
       "  </thead>\n",
       "  <tbody>\n",
       "    <tr>\n",
       "      <th>0</th>\n",
       "      <td>2021-04-16 20:29:28+00:00</td>\n",
       "      <td>1001</td>\n",
       "      <td>1</td>\n",
       "    </tr>\n",
       "    <tr>\n",
       "      <th>1</th>\n",
       "      <td>2021-04-17 04:29:28+00:00</td>\n",
       "      <td>1002</td>\n",
       "      <td>0</td>\n",
       "    </tr>\n",
       "    <tr>\n",
       "      <th>2</th>\n",
       "      <td>2021-04-17 12:29:28+00:00</td>\n",
       "      <td>1003</td>\n",
       "      <td>0</td>\n",
       "    </tr>\n",
       "    <tr>\n",
       "      <th>3</th>\n",
       "      <td>2021-04-17 20:29:28+00:00</td>\n",
       "      <td>1001</td>\n",
       "      <td>1</td>\n",
       "    </tr>\n",
       "    <tr>\n",
       "      <th>4</th>\n",
       "      <td>2021-04-18 04:29:28+00:00</td>\n",
       "      <td>1002</td>\n",
       "      <td>0</td>\n",
       "    </tr>\n",
       "    <tr>\n",
       "      <th>5</th>\n",
       "      <td>2021-04-18 12:29:28+00:00</td>\n",
       "      <td>1003</td>\n",
       "      <td>0</td>\n",
       "    </tr>\n",
       "    <tr>\n",
       "      <th>6</th>\n",
       "      <td>2021-04-18 20:29:28+00:00</td>\n",
       "      <td>1001</td>\n",
       "      <td>1</td>\n",
       "    </tr>\n",
       "    <tr>\n",
       "      <th>7</th>\n",
       "      <td>2021-04-19 04:29:28+00:00</td>\n",
       "      <td>1002</td>\n",
       "      <td>0</td>\n",
       "    </tr>\n",
       "    <tr>\n",
       "      <th>8</th>\n",
       "      <td>2021-04-19 12:29:28+00:00</td>\n",
       "      <td>1003</td>\n",
       "      <td>0</td>\n",
       "    </tr>\n",
       "    <tr>\n",
       "      <th>9</th>\n",
       "      <td>2021-04-19 20:29:28+00:00</td>\n",
       "      <td>1004</td>\n",
       "      <td>1</td>\n",
       "    </tr>\n",
       "  </tbody>\n",
       "</table>\n",
       "</div>"
      ],
      "text/plain": [
       "             event_timestamp  driver_id  trip_completed\n",
       "0  2021-04-16 20:29:28+00:00       1001               1\n",
       "1  2021-04-17 04:29:28+00:00       1002               0\n",
       "2  2021-04-17 12:29:28+00:00       1003               0\n",
       "3  2021-04-17 20:29:28+00:00       1001               1\n",
       "4  2021-04-18 04:29:28+00:00       1002               0\n",
       "5  2021-04-18 12:29:28+00:00       1003               0\n",
       "6  2021-04-18 20:29:28+00:00       1001               1\n",
       "7  2021-04-19 04:29:28+00:00       1002               0\n",
       "8  2021-04-19 12:29:28+00:00       1003               0\n",
       "9  2021-04-19 20:29:28+00:00       1004               1"
      ]
     },
     "execution_count": 5,
     "metadata": {},
     "output_type": "execute_result"
    }
   ],
   "source": [
    "label_orig = pd.read_csv(LABEL_PATH, sep=\"\\t\")\n",
    "label_orig"
   ]
  },
  {
   "cell_type": "markdown",
   "id": "7c82ecb5-848a-44d8-92ff-89bd5da6933e",
   "metadata": {},
   "source": [
    "### Format timestamp"
   ]
  },
  {
   "cell_type": "code",
   "execution_count": 6,
   "id": "59756fe5-cd66-4a11-b0d1-28c3a44b3309",
   "metadata": {},
   "outputs": [
    {
     "data": {
      "text/html": [
       "<div>\n",
       "<style scoped>\n",
       "    .dataframe tbody tr th:only-of-type {\n",
       "        vertical-align: middle;\n",
       "    }\n",
       "\n",
       "    .dataframe tbody tr th {\n",
       "        vertical-align: top;\n",
       "    }\n",
       "\n",
       "    .dataframe thead th {\n",
       "        text-align: right;\n",
       "    }\n",
       "</style>\n",
       "<table border=\"1\" class=\"dataframe\">\n",
       "  <thead>\n",
       "    <tr style=\"text-align: right;\">\n",
       "      <th></th>\n",
       "      <th>event_timestamp</th>\n",
       "      <th>driver_id</th>\n",
       "      <th>trip_completed</th>\n",
       "    </tr>\n",
       "  </thead>\n",
       "  <tbody>\n",
       "    <tr>\n",
       "      <th>0</th>\n",
       "      <td>2021-04-16 20:29:28+00:00</td>\n",
       "      <td>1001</td>\n",
       "      <td>1</td>\n",
       "    </tr>\n",
       "    <tr>\n",
       "      <th>1</th>\n",
       "      <td>2021-04-17 04:29:28+00:00</td>\n",
       "      <td>1002</td>\n",
       "      <td>0</td>\n",
       "    </tr>\n",
       "    <tr>\n",
       "      <th>2</th>\n",
       "      <td>2021-04-17 12:29:28+00:00</td>\n",
       "      <td>1003</td>\n",
       "      <td>0</td>\n",
       "    </tr>\n",
       "    <tr>\n",
       "      <th>3</th>\n",
       "      <td>2021-04-17 20:29:28+00:00</td>\n",
       "      <td>1001</td>\n",
       "      <td>1</td>\n",
       "    </tr>\n",
       "    <tr>\n",
       "      <th>4</th>\n",
       "      <td>2021-04-18 04:29:28+00:00</td>\n",
       "      <td>1002</td>\n",
       "      <td>0</td>\n",
       "    </tr>\n",
       "    <tr>\n",
       "      <th>5</th>\n",
       "      <td>2021-04-18 12:29:28+00:00</td>\n",
       "      <td>1003</td>\n",
       "      <td>0</td>\n",
       "    </tr>\n",
       "    <tr>\n",
       "      <th>6</th>\n",
       "      <td>2021-04-18 20:29:28+00:00</td>\n",
       "      <td>1001</td>\n",
       "      <td>1</td>\n",
       "    </tr>\n",
       "    <tr>\n",
       "      <th>7</th>\n",
       "      <td>2021-04-19 04:29:28+00:00</td>\n",
       "      <td>1002</td>\n",
       "      <td>0</td>\n",
       "    </tr>\n",
       "    <tr>\n",
       "      <th>8</th>\n",
       "      <td>2021-04-19 12:29:28+00:00</td>\n",
       "      <td>1003</td>\n",
       "      <td>0</td>\n",
       "    </tr>\n",
       "    <tr>\n",
       "      <th>9</th>\n",
       "      <td>2021-04-19 20:29:28+00:00</td>\n",
       "      <td>1004</td>\n",
       "      <td>1</td>\n",
       "    </tr>\n",
       "  </tbody>\n",
       "</table>\n",
       "</div>"
      ],
      "text/plain": [
       "            event_timestamp  driver_id  trip_completed\n",
       "0 2021-04-16 20:29:28+00:00       1001               1\n",
       "1 2021-04-17 04:29:28+00:00       1002               0\n",
       "2 2021-04-17 12:29:28+00:00       1003               0\n",
       "3 2021-04-17 20:29:28+00:00       1001               1\n",
       "4 2021-04-18 04:29:28+00:00       1002               0\n",
       "5 2021-04-18 12:29:28+00:00       1003               0\n",
       "6 2021-04-18 20:29:28+00:00       1001               1\n",
       "7 2021-04-19 04:29:28+00:00       1002               0\n",
       "8 2021-04-19 12:29:28+00:00       1003               0\n",
       "9 2021-04-19 20:29:28+00:00       1004               1"
      ]
     },
     "execution_count": 6,
     "metadata": {},
     "output_type": "execute_result"
    }
   ],
   "source": [
    "label_orig[\"event_timestamp\"] = pd.to_datetime(label_orig[\"event_timestamp\"])\n",
    "label_orig"
   ]
  },
  {
   "cell_type": "code",
   "execution_count": 7,
   "id": "0d778132-6e38-4f61-b810-2c08eff508b6",
   "metadata": {},
   "outputs": [],
   "source": [
    "target_col = \"trip_completed\""
   ]
  },
  {
   "cell_type": "markdown",
   "id": "5197f32f-e614-4c61-ac0a-676772577da6",
   "metadata": {},
   "source": [
    "## Explore data"
   ]
  },
  {
   "cell_type": "code",
   "execution_count": 8,
   "id": "b2a01fb6-a721-43be-b441-c788432a2b42",
   "metadata": {},
   "outputs": [
    {
     "name": "stdout",
     "output_type": "stream",
     "text": [
      "<class 'pandas.core.frame.DataFrame'>\n",
      "Int64Index: 1807 entries, 0 to 902\n",
      "Data columns (total 6 columns):\n",
      " #   Column           Non-Null Count  Dtype              \n",
      "---  ------           --------------  -----              \n",
      " 0   datetime         1807 non-null   datetime64[ns, UTC]\n",
      " 1   driver_id        1807 non-null   int64              \n",
      " 2   conv_rate        1807 non-null   float64            \n",
      " 3   acc_rate         1807 non-null   float64            \n",
      " 4   avg_daily_trips  1807 non-null   int64              \n",
      " 5   created          1807 non-null   datetime64[ns]     \n",
      "dtypes: datetime64[ns, UTC](1), datetime64[ns](1), float64(2), int64(2)\n",
      "memory usage: 98.8 KB\n"
     ]
    }
   ],
   "source": [
    "df_orig.info()"
   ]
  },
  {
   "cell_type": "code",
   "execution_count": 9,
   "id": "30e871f4-e605-4858-a0c5-d4e9464f9f53",
   "metadata": {},
   "outputs": [
    {
     "name": "stdout",
     "output_type": "stream",
     "text": [
      "<class 'pandas.core.frame.DataFrame'>\n",
      "RangeIndex: 10 entries, 0 to 9\n",
      "Data columns (total 3 columns):\n",
      " #   Column           Non-Null Count  Dtype              \n",
      "---  ------           --------------  -----              \n",
      " 0   event_timestamp  10 non-null     datetime64[ns, UTC]\n",
      " 1   driver_id        10 non-null     int64              \n",
      " 2   trip_completed   10 non-null     int64              \n",
      "dtypes: datetime64[ns, UTC](1), int64(2)\n",
      "memory usage: 368.0 bytes\n"
     ]
    }
   ],
   "source": [
    "label_orig.info()"
   ]
  },
  {
   "cell_type": "markdown",
   "id": "33625530-dc96-4b03-9764-d40a205c3034",
   "metadata": {},
   "source": [
    "## Training"
   ]
  },
  {
   "cell_type": "markdown",
   "id": "b9e24fa7-56d4-4d13-a052-e6a79849e8ce",
   "metadata": {},
   "source": [
    "### Split data"
   ]
  },
  {
   "cell_type": "code",
   "execution_count": 10,
   "id": "bfcd0158-b35c-489f-951d-0106c1956d54",
   "metadata": {},
   "outputs": [],
   "source": [
    "from sklearn.linear_model import ElasticNet\n",
    "from sklearn.model_selection import train_test_split\n",
    "from sklearn.metrics import mean_squared_error, mean_absolute_error, r2_score\n",
    "from mlflow.tracking import MlflowClient\n",
    "import mlflow"
   ]
  },
  {
   "cell_type": "code",
   "execution_count": 11,
   "metadata": {},
   "outputs": [],
   "source": [
    "def eval_metrics(actual, pred):\n",
    "    rmse = np.sqrt(mean_squared_error(actual, pred))\n",
    "    mae = mean_absolute_error(actual, pred)\n",
    "    r2 = r2_score(actual, pred)\n",
    "    return rmse, mae, r2\n",
    "\n",
    "def yield_artifacts(run_id, path=None):\n",
    "    \"\"\"Yield all artifacts in the specified run\"\"\"\n",
    "    client = MlflowClient()\n",
    "    for item in client.list_artifacts(run_id, path):\n",
    "        if item.is_dir:\n",
    "            yield from yield_artifacts(run_id, item.path)\n",
    "        else:\n",
    "            yield item.path\n",
    "\n",
    "def fetch_logged_data(run_id):\n",
    "    \"\"\"Fetch params, metrics, tags, and artifacts in the specified run\"\"\"\n",
    "    client = MlflowClient()\n",
    "    data = client.get_run(run_id).data\n",
    "    # Exclude system tags: https://www.mlflow.org/docs/latest/tracking.html#system-tags\n",
    "    tags = {k: v for k, v in data.tags.items() if not k.startswith(\"mlflow.\")}\n",
    "    artifacts = list(yield_artifacts(run_id))\n",
    "    return {\n",
    "        \"params\": data.params,\n",
    "        \"metrics\": data.metrics,\n",
    "        \"tags\": tags,\n",
    "        \"artifacts\": artifacts,\n",
    "    }"
   ]
  },
  {
   "cell_type": "code",
   "execution_count": 12,
   "id": "18d465f2-30f2-4438-a485-c69f332a2404",
   "metadata": {},
   "outputs": [
    {
     "data": {
      "text/html": [
       "<div>\n",
       "<style scoped>\n",
       "    .dataframe tbody tr th:only-of-type {\n",
       "        vertical-align: middle;\n",
       "    }\n",
       "\n",
       "    .dataframe tbody tr th {\n",
       "        vertical-align: top;\n",
       "    }\n",
       "\n",
       "    .dataframe thead th {\n",
       "        text-align: right;\n",
       "    }\n",
       "</style>\n",
       "<table border=\"1\" class=\"dataframe\">\n",
       "  <thead>\n",
       "    <tr style=\"text-align: right;\">\n",
       "      <th></th>\n",
       "      <th>conv_rate</th>\n",
       "      <th>acc_rate</th>\n",
       "      <th>avg_daily_trips</th>\n",
       "      <th>trip_completed</th>\n",
       "    </tr>\n",
       "  </thead>\n",
       "  <tbody>\n",
       "    <tr>\n",
       "      <th>0</th>\n",
       "      <td>0.247582</td>\n",
       "      <td>0.795497</td>\n",
       "      <td>772</td>\n",
       "      <td>1</td>\n",
       "    </tr>\n",
       "    <tr>\n",
       "      <th>1</th>\n",
       "      <td>0.875381</td>\n",
       "      <td>0.025149</td>\n",
       "      <td>203</td>\n",
       "      <td>1</td>\n",
       "    </tr>\n",
       "    <tr>\n",
       "      <th>2</th>\n",
       "      <td>0.977574</td>\n",
       "      <td>0.408694</td>\n",
       "      <td>158</td>\n",
       "      <td>1</td>\n",
       "    </tr>\n",
       "    <tr>\n",
       "      <th>3</th>\n",
       "      <td>0.391113</td>\n",
       "      <td>0.092807</td>\n",
       "      <td>731</td>\n",
       "      <td>1</td>\n",
       "    </tr>\n",
       "    <tr>\n",
       "      <th>4</th>\n",
       "      <td>0.611149</td>\n",
       "      <td>0.144825</td>\n",
       "      <td>468</td>\n",
       "      <td>1</td>\n",
       "    </tr>\n",
       "    <tr>\n",
       "      <th>...</th>\n",
       "      <td>...</td>\n",
       "      <td>...</td>\n",
       "      <td>...</td>\n",
       "      <td>...</td>\n",
       "    </tr>\n",
       "    <tr>\n",
       "      <th>3611</th>\n",
       "      <td>0.222534</td>\n",
       "      <td>0.927691</td>\n",
       "      <td>114</td>\n",
       "      <td>1</td>\n",
       "    </tr>\n",
       "    <tr>\n",
       "      <th>3612</th>\n",
       "      <td>0.222534</td>\n",
       "      <td>0.927691</td>\n",
       "      <td>114</td>\n",
       "      <td>1</td>\n",
       "    </tr>\n",
       "    <tr>\n",
       "      <th>3613</th>\n",
       "      <td>0.175219</td>\n",
       "      <td>0.761434</td>\n",
       "      <td>385</td>\n",
       "      <td>1</td>\n",
       "    </tr>\n",
       "    <tr>\n",
       "      <th>3614</th>\n",
       "      <td>0.175219</td>\n",
       "      <td>0.761434</td>\n",
       "      <td>385</td>\n",
       "      <td>1</td>\n",
       "    </tr>\n",
       "    <tr>\n",
       "      <th>3615</th>\n",
       "      <td>0.175219</td>\n",
       "      <td>0.761434</td>\n",
       "      <td>385</td>\n",
       "      <td>1</td>\n",
       "    </tr>\n",
       "  </tbody>\n",
       "</table>\n",
       "<p>3616 rows × 4 columns</p>\n",
       "</div>"
      ],
      "text/plain": [
       "      conv_rate  acc_rate  avg_daily_trips  trip_completed\n",
       "0      0.247582  0.795497              772               1\n",
       "1      0.875381  0.025149              203               1\n",
       "2      0.977574  0.408694              158               1\n",
       "3      0.391113  0.092807              731               1\n",
       "4      0.611149  0.144825              468               1\n",
       "...         ...       ...              ...             ...\n",
       "3611   0.222534  0.927691              114               1\n",
       "3612   0.222534  0.927691              114               1\n",
       "3613   0.175219  0.761434              385               1\n",
       "3614   0.175219  0.761434              385               1\n",
       "3615   0.175219  0.761434              385               1\n",
       "\n",
       "[3616 rows x 4 columns]"
      ]
     },
     "execution_count": 12,
     "metadata": {},
     "output_type": "execute_result"
    }
   ],
   "source": [
    "data_df = df_orig.merge(label_orig, left_on=\"driver_id\", right_on=\"driver_id\")\n",
    "data_df = data_df[data_df.columns. \\\n",
    "    drop(\"datetime\"). \\\n",
    "    drop(\"driver_id\"). \\\n",
    "    drop(\"created\"). \\\n",
    "    drop(\"event_timestamp\")]\n",
    "data_df"
   ]
  },
  {
   "cell_type": "code",
   "execution_count": 13,
   "id": "e86c2826-5151-4da3-8641-b9d471a2ac28",
   "metadata": {},
   "outputs": [
    {
     "data": {
      "text/plain": [
       "((2892, 3), (2892, 1), (724, 3), (724, 1))"
      ]
     },
     "execution_count": 13,
     "metadata": {},
     "output_type": "execute_result"
    }
   ],
   "source": [
    "TEST_SIZE = 0.2\n",
    "train, test = train_test_split(data_df, test_size=TEST_SIZE, random_state=random_seed)\n",
    "train_x = train.drop([target_col], axis=1)\n",
    "test_x = test.drop([target_col], axis=1)\n",
    "train_y = train[[target_col]]\n",
    "test_y = test[[target_col]]\n",
    "train_x.shape, train_y.shape, test_x.shape, test_y.shape"
   ]
  },
  {
   "cell_type": "markdown",
   "id": "f098ec39",
   "metadata": {},
   "source": [
    "### Training and evaluation"
   ]
  },
  {
   "cell_type": "code",
   "execution_count": 14,
   "id": "ae4abca5-4985-49cd-916b-fb6efae63d55",
   "metadata": {},
   "outputs": [
    {
     "name": "stdout",
     "output_type": "stream",
     "text": [
      "('http://localhost:5000', 'mlflow-artifacts:/0/0b42ea038b494c02a59a2216a11a5c71/artifacts')\n"
     ]
    },
    {
     "name": "stderr",
     "output_type": "stream",
     "text": [
      "2022/09/03 12:01:30 WARNING mlflow.utils.autologging_utils: MLflow autologging encountered a warning: \"/Users/tung.dao/miniconda3/envs/mlopsvn-code-training/lib/python3.9/site-packages/mlflow/models/signature.py:129: UserWarning: Hint: Inferred schema contains integer column(s). Integer columns in Python cannot represent missing values. If your input data contains missing values at inference time, it will be encoded as floats and will cause a schema enforcement error. The best way to avoid this problem is to infer the model schema based on a realistic data sample (training dataset) that includes missing values. Alternatively, you can declare integer columns as doubles (float64) whenever these columns may have missing values. See `Handling Integers With Missing Values <https://www.mlflow.org/docs/latest/models.html#handling-integers-with-missing-values>`_ for more details.\"\n",
      "2022/09/03 12:01:32 WARNING mlflow.utils.autologging_utils: MLflow autologging encountered a warning: \"/Users/tung.dao/miniconda3/envs/mlopsvn-code-training/lib/python3.9/site-packages/_distutils_hack/__init__.py:33: UserWarning: Setuptools is replacing distutils.\"\n"
     ]
    },
    {
     "name": "stdout",
     "output_type": "stream",
     "text": [
      "Elasticnet model (alpha=0.500000, l1_ratio=0.100000):\n",
      "  RMSE: 0.4903734721027044\n",
      "  MAE: 0.480175079686162\n",
      "  R2: -0.00034586893532195795\n",
      "Logged data and model in run 0b42ea038b494c02a59a2216a11a5c71\n",
      "\n",
      "---------- logged params ----------\n",
      "{'alpha': '0.5', 'copy_X': 'True', 'fit_intercept': 'True', 'l1_ratio': '0.1', 'max_iter': '1000', 'normalize': 'deprecated', 'positive': 'False', 'precompute': 'False', 'random_state': '17', 'selection': 'cyclic', 'tol': '0.0001', 'warm_start': 'False'}\n",
      "\n",
      "---------- logged metrics ----------\n",
      "{'training_mse': 0.23969650650486524, 'training_mae': 0.47939508605448006, 'training_r2_score': 0.00016256694638772107, 'training_rmse': 0.48958809881865517, 'training_score': 0.00016256694638772107, 'testing_rmse': 0.4903734721027044, 'testing_r2': -0.00034586893532195795, 'testing_mae': 0.480175079686162}\n",
      "\n",
      "---------- logged tags ----------\n",
      "{'estimator_name': 'ElasticNet', 'estimator_class': 'sklearn.linear_model._coordinate_descent.ElasticNet'}\n",
      "\n",
      "---------- logged artifacts ----------\n",
      "['model/MLmodel', 'model/conda.yaml', 'model/model.pkl', 'model/python_env.yaml', 'model/requirements.txt']\n"
     ]
    }
   ],
   "source": [
    "ALPHA = 0.5\n",
    "L1_RATIO = 0.1\n",
    "\n",
    "MLFLOW_TRACKING_URI = \"http://localhost:5000\"\n",
    "mlflow.set_tracking_uri(MLFLOW_TRACKING_URI)\n",
    "print((mlflow.get_tracking_uri(), mlflow.get_artifact_uri()))\n",
    "mlflow.sklearn.autolog()\n",
    "\n",
    "model = ElasticNet(alpha=ALPHA, l1_ratio=L1_RATIO, random_state=random_seed)\n",
    "model.fit(train_x, train_y)\n",
    "\n",
    "predicted_qualities = model.predict(test_x)\n",
    "(rmse, mae, r2) = eval_metrics(test_y, predicted_qualities)\n",
    "\n",
    "print(\"Elasticnet model (alpha=%f, l1_ratio=%f):\" % (ALPHA, L1_RATIO))\n",
    "print(\"  RMSE: %s\" % rmse)\n",
    "print(\"  MAE: %s\" % mae)\n",
    "print(\"  R2: %s\" % r2)\n",
    "\n",
    "mlflow.log_param(\"alpha\", ALPHA)\n",
    "mlflow.log_param(\"l1_ratio\", L1_RATIO)\n",
    "mlflow.log_metric(\"testing_rmse\", rmse)\n",
    "mlflow.log_metric(\"testing_r2\", r2)\n",
    "mlflow.log_metric(\"testing_mae\", mae)\n",
    "mlflow.sklearn.log_model(model, \"model\")\n",
    "mlflow.end_run()\n",
    "\n",
    "run_id = mlflow.last_active_run().info.run_id\n",
    "print(\"Logged data and model in run {}\".format(run_id))\n",
    "for key, data in fetch_logged_data(run_id).items():\n",
    "    print(\"\\n---------- logged {} ----------\".format(key))\n",
    "    print(data)"
   ]
  },
  {
   "cell_type": "markdown",
   "id": "7faab224-e2f0-4505-975f-e23bbe9a70e9",
   "metadata": {},
   "source": [
    "### Export"
   ]
  },
  {
   "cell_type": "code",
   "execution_count": 15,
   "id": "234e7bfd-0c84-4160-ad4c-69272021664e",
   "metadata": {},
   "outputs": [
    {
     "data": {
      "text/plain": [
       "['model/driver_model.bin']"
      ]
     },
     "execution_count": 15,
     "metadata": {},
     "output_type": "execute_result"
    }
   ],
   "source": [
    "from joblib import dump\n",
    "MODEL_DIR = Path(\"./model\")\n",
    "dump(model, MODEL_DIR / \"driver_model.bin\")"
   ]
  }
 ],
 "metadata": {
  "kernelspec": {
   "display_name": "Python 3.9.13 ('mlopsvn-code-training')",
   "language": "python",
   "name": "python3"
  },
  "language_info": {
   "codemirror_mode": {
    "name": "ipython",
    "version": 3
   },
   "file_extension": ".py",
   "mimetype": "text/x-python",
   "name": "python",
   "nbconvert_exporter": "python",
   "pygments_lexer": "ipython3",
   "version": "3.9.13"
  },
  "vscode": {
   "interpreter": {
    "hash": "d1e56b398ca00f2eec21cb1d850b847879d95407a71be265f34934146c431c0c"
   }
  }
 },
 "nbformat": 4,
 "nbformat_minor": 5
}
